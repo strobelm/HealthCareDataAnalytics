{
 "cells": [
  {
   "cell_type": "markdown",
   "id": "d2878889",
   "metadata": {},
   "source": [
    "# Übung 6: Regularisierung"
   ]
  },
  {
   "cell_type": "markdown",
   "id": "25628840",
   "metadata": {},
   "source": [
    "#### Bei der letzen Übung haben Sie gesehen, dass der Gradientenabstieg nur sehr schlecht konvergiert. Man kann zeigen, dass das Verfahren deutlich besser funktioniert wenn die Daten voher Skaliert oder Standardtisiert werden.\n",
    "\n",
    "Laden Sie wieder die 'insurance.csv' Daten und filtern Sie nach männlichen Rauchern. Extrahieren Sie die Daten analog wie in der letzen Übung.\n",
    "\n",
    "1. Skalieren sie die Daten mit dem `StandardScaler` und wenden Sie den Stochastischen Gradientenabstieg auf die Skalierten Daten an. Versuchen Sie verschiedene Learning Rates und Traingsdatengrößen. Was stellen Sie fest?\n",
    "Hinweis: Vergessen Sie nicht die Daten zurückzutransformieren (siehe `StandardScaler().inverse_transform`).\n",
    "\n",
    "2. Benutzen Sie `sklearn.preprocessing.PolynomialFeatures` und `sklearn.linear_model.LinearRegression` um ein Polynom zweiten Grades durch im Datensatz zu fitten. Hinweis: Benutzen Sie `StandardScaler` um die Konvergenz zu Verbesserung und nutzen Sie `sklearn.pipeline.Pipeline`. Setzen Sie `include_bias=False` und `degree=50` in PolynomialFeatures.\n",
    "\n",
    "3. Regularisieren Sie das Modell zur Linearen Regression sowohl mit `Ridge` als auch mit `Lasso` aus `sklearn.linear_model`.\n",
    "\n",
    "4. Implementieren Sie eine Funktion die Ihnen die Learning Curve plottet. Benutzen Sie die Funktion und plotten Sie die Learning Curve aus Aufgabe 2 und Aufgabe 3.\n"
   ]
  },
  {
   "cell_type": "code",
   "execution_count": null,
   "id": "d5318e38",
   "metadata": {},
   "outputs": [],
   "source": []
  }
 ],
 "metadata": {
  "kernelspec": {
   "display_name": "Python 3.8 (ipykernel)",
   "language": "python",
   "name": "python3.8"
  },
  "language_info": {
   "codemirror_mode": {
    "name": "ipython",
    "version": 3
   },
   "file_extension": ".py",
   "mimetype": "text/x-python",
   "name": "python",
   "nbconvert_exporter": "python",
   "pygments_lexer": "ipython3",
   "version": "3.8.13"
  }
 },
 "nbformat": 4,
 "nbformat_minor": 5
}
