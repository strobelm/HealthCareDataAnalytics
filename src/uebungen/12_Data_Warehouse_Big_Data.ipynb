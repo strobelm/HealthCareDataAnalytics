{
 "cells": [
  {
   "attachments": {},
   "cell_type": "markdown",
   "id": "cc83159f",
   "metadata": {},
   "source": [
    "# Übung 12\n",
    "## Aufgabe 1\n",
    "In der Vorlesung haben wir das Konzept eines Data Warehouses kennengelernt, \n",
    "\n",
    "1. Erörtern Sie die Unterschiede zwischen einem Data Warehouse und einem Data Mart \n",
    "2. Ein weiteres Konzept ist der Data Lake. Worin unterscheidet sich ein Data Lake von einem Data Warehouse?\n",
    "\n",
    "## Aufgabe 2\n",
    "\n",
    "Recherchieren Sie Anwendungsfälle von Big Data Applikationen, gehen Sie hierbei insbesondere auf folgende Felder ein:\n",
    "\n",
    "- Predictive Maintainance \n",
    "- Machine Learning \n",
    "- Fraud and Compliance \n",
    "- Operational Efficiency \n",
    "- User Experience "
   ]
  }
 ],
 "metadata": {
  "kernelspec": {
   "display_name": "Python 3 (ipykernel)",
   "language": "python",
   "name": "python3"
  },
  "language_info": {
   "codemirror_mode": {
    "name": "ipython",
    "version": 3
   },
   "file_extension": ".py",
   "mimetype": "text/x-python",
   "name": "python",
   "nbconvert_exporter": "python",
   "pygments_lexer": "ipython3",
   "version": "3.10.5"
  }
 },
 "nbformat": 4,
 "nbformat_minor": 5
}
