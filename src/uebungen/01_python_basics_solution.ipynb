{
 "cells": [
  {
   "cell_type": "markdown",
   "metadata": {
    "id": "dzNng6vCL9eP"
   },
   "source": [
    "# Python Basics"
   ]
  },
  {
   "cell_type": "markdown",
   "metadata": {
    "id": "0vJLt3JRL9eR"
   },
   "source": [
    "Dieses Tutorial wurde ursprünglich von [Justin Johnson](https://web.eecs.umich.edu/~justincj/) für den Kurs cs231n an der Universität Stanford geschrieben. Es wurde als Jupyter-Notebook für cs228 von [Volodymyr Kuleshov](http://web.stanford.edu/~kuleshov/) und [Isaac Caswell](https://symsys.stanford.edu/viewing/symsysaffiliate/21335) angepasst. Diese Version wurde für Colab von Kevin Zakka für den Kurs [cs231n](https://cs231n.github.io/) angepasst. Standardmäßig läuft sie mit Python3.\n",
    "\n"
   ]
  },
  {
   "cell_type": "markdown",
   "metadata": {
    "id": "qVrTo-LhL9eS"
   },
   "source": [
    "## Einleitung"
   ]
  },
  {
   "cell_type": "markdown",
   "metadata": {
    "id": "9t1gKp9PL9eV"
   },
   "source": [
    "Python ist an sich schon eine großartige Allzweckprogrammiersprache, aber mit Hilfe einiger beliebter Bibliotheken (numpy, scipy, matplotlib) wird sie zu einer leistungsstarken Umgebung für Data Science Berechnungen.\n",
    "\n",
    "Wir gehen davon aus, dass viele von Ihnen bereits Erfahrung mit Python und numpy haben; für alle anderen dient dieser Abschnitt als schneller Crashkurs sowohl über die Programmiersprache Python als auch über die Verwendung von Python für Data Science Berechnungen.\n",
    "\n",
    "Einige von Ihnen haben vielleicht Vorkenntnisse in Matlab, in diesem Fall empfehlen wir auch die Seite numpy for Matlab users (https://docs.scipy.org/doc/numpy-dev/user/numpy-for-matlab-users.html)."
   ]
  },
  {
   "cell_type": "markdown",
   "metadata": {
    "id": "U1PvreR9L9eW"
   },
   "source": [
    "Dieses Tutorial beinhaltet folgende Themen:\n",
    "\n",
    "* Basic Python: Basic data types (Containers, Lists, Dictionaries, Sets, Tuples), Funktionen, Klassen\n",
    "* Numpy: Arrays, Array indexing, Datatypes, Array Manipulation, Broadcasting\n",
    "* Matplotlib: Plotting, Subplots, Images\n",
    "* IPython: Creating notebooks, Typical workflows"
   ]
  },
  {
   "cell_type": "markdown",
   "metadata": {
    "id": "nxvEkGXPM3Xh"
   },
   "source": [
    "## Python Versionen \n",
    "\n",
    "Ab dem 1. Januar 2020 hat Python [offiziell die Unterstützung](https://www.python.org/doc/sunset-python-2/) für `python2` eingestellt, bitte verwenden Sie kein Python 2 mehr. Wir werden Python 3.7 oder höher für diesen Kurs verwenden. Sie können Ihre Python-Version auf der Kommandozeile überprüfen, indem Sie `python3 --version` ausführen.\n",
    "\n"
   ]
  },
  {
   "cell_type": "code",
   "execution_count": 1,
   "metadata": {
    "colab": {
     "base_uri": "https://localhost:8080/",
     "height": 34
    },
    "id": "1L4Am0QATgOc",
    "outputId": "bb5ee3ac-8683-44ab-e599-a2077510f327"
   },
   "outputs": [
    {
     "name": "stdout",
     "output_type": "stream",
     "text": [
      "Python 3.8.12\r\n"
     ]
    }
   ],
   "source": [
    "!python3 --version"
   ]
  },
  {
   "cell_type": "markdown",
   "metadata": {
    "id": "JAFKYgrpL9eY"
   },
   "source": [
    "## Python Basics"
   ]
  },
  {
   "cell_type": "markdown",
   "metadata": {
    "id": "RbFS6tdgL9ea"
   },
   "source": [
    "Python ist eine hochentwickelte, dynamisch typisierte Multiparadigma-Programmiersprache. Von Python-Code wird oft gesagt, er sei fast wie Pseudocode, da er es ermöglicht, sehr mächtige Ideen in sehr wenigen Codezeilen auszudrücken und dabei sehr lesbar zu sein. Als Beispiel ist hier eine Implementierung des klassischen Quicksort-Algorithmus in Python zu nennen:"
   ]
  },
  {
   "cell_type": "code",
   "execution_count": 2,
   "metadata": {
    "colab": {
     "base_uri": "https://localhost:8080/",
     "height": 34
    },
    "id": "cYb0pjh1L9eb",
    "outputId": "9a8e37de-1dc1-4092-faee-06ad4ff2d73a"
   },
   "outputs": [
    {
     "name": "stdout",
     "output_type": "stream",
     "text": [
      "[1, 1, 2, 3, 6, 8, 10]\n"
     ]
    }
   ],
   "source": [
    "import json\n",
    "from dataclasses import asdict, dataclass\n",
    "from datetime import date\n",
    "from math import sqrt\n",
    "from typing import List\n",
    "\n",
    "\n",
    "def quicksort(arr):\n",
    "    if len(arr) <= 1:\n",
    "        return arr\n",
    "    pivot = arr[len(arr) // 2]\n",
    "    left = [x for x in arr if x < pivot]\n",
    "    middle = [x for x in arr if x == pivot]\n",
    "    right = [x for x in arr if x > pivot]\n",
    "    return quicksort(left) + middle + quicksort(right)\n",
    "\n",
    "\n",
    "print(quicksort([3, 6, 8, 10, 1, 2, 1]))"
   ]
  },
  {
   "cell_type": "markdown",
   "metadata": {
    "id": "NwS_hu4xL9eo"
   },
   "source": [
    "### Basic data types"
   ]
  },
  {
   "cell_type": "markdown",
   "metadata": {
    "id": "DL5sMSZ9L9eq"
   },
   "source": [
    "#### Zahlentypen"
   ]
  },
  {
   "cell_type": "markdown",
   "metadata": {
    "id": "MGS0XEWoL9er"
   },
   "source": [
    "Integers and floats verhalten sich wie man es erwarten würde:"
   ]
  },
  {
   "cell_type": "code",
   "execution_count": 3,
   "metadata": {
    "colab": {
     "base_uri": "https://localhost:8080/",
     "height": 52
    },
    "id": "KheDr_zDL9es",
    "outputId": "1db9f4d3-2e0d-4008-f78a-161ed52c4359"
   },
   "outputs": [
    {
     "name": "stdout",
     "output_type": "stream",
     "text": [
      "3 <class 'int'>\n"
     ]
    }
   ],
   "source": [
    "x = 3\n",
    "print(x, type(x))"
   ]
  },
  {
   "cell_type": "code",
   "execution_count": 4,
   "metadata": {
    "colab": {
     "base_uri": "https://localhost:8080/",
     "height": 86
    },
    "id": "sk_8DFcuL9ey",
    "outputId": "dd60a271-3457-465d-e16a-41acf12a56ab"
   },
   "outputs": [
    {
     "name": "stdout",
     "output_type": "stream",
     "text": [
      "4\n",
      "2\n",
      "6\n",
      "9\n"
     ]
    }
   ],
   "source": [
    "print(x + 1)  # Additon\n",
    "print(x - 1)  # Subtraktion\n",
    "print(x * 2)  # Multiplikation\n",
    "print(x**2)  # Exponente"
   ]
  },
  {
   "cell_type": "code",
   "execution_count": 5,
   "metadata": {
    "colab": {
     "base_uri": "https://localhost:8080/",
     "height": 52
    },
    "id": "U4Jl8K0tL9e4",
    "outputId": "07e3db14-3781-42b7-8ba6-042b3f9f72ba"
   },
   "outputs": [
    {
     "name": "stdout",
     "output_type": "stream",
     "text": [
      "4\n",
      "8\n"
     ]
    }
   ],
   "source": [
    "x += 1\n",
    "print(x)\n",
    "x *= 2\n",
    "print(x)"
   ]
  },
  {
   "cell_type": "code",
   "execution_count": 6,
   "metadata": {
    "colab": {
     "base_uri": "https://localhost:8080/",
     "height": 52
    },
    "id": "w-nZ0Sg_L9e9",
    "outputId": "3aa579f8-9540-46ef-935e-be887781ecb4"
   },
   "outputs": [
    {
     "name": "stdout",
     "output_type": "stream",
     "text": [
      "<class 'float'>\n",
      "2.5 3.5 5.0 6.25\n"
     ]
    }
   ],
   "source": [
    "y = 2.5\n",
    "print(type(y))\n",
    "print(y, y + 1, y * 2, y**2)"
   ]
  },
  {
   "cell_type": "markdown",
   "metadata": {
    "id": "r2A9ApyaL9fB"
   },
   "source": [
    "Beachten Sie, dass Python im Gegensatz zu vielen anderen Sprachen keine unären Inkrement- (x++) oder Dekrement-Operatoren (x--) besitzt.\n",
    "\n",
    "Python hat auch eingebaute Typen für long / BigInt Zahlentypen und komplexe Zahlen; Sie können alle Details in der [Dokumentation](https://docs.python.org/3.7/library/stdtypes.html#numeric-types-int-float-long-complex) finden."
   ]
  },
  {
   "cell_type": "markdown",
   "metadata": {
    "id": "EqRS7qhBL9fC"
   },
   "source": [
    "#### Booleans"
   ]
  },
  {
   "cell_type": "markdown",
   "metadata": {
    "id": "Nv_LIVOJL9fD"
   },
   "source": [
    "Python implementiert alle üblichen Operatoren für die boolesche Logik, verwendet aber englische Wörter anstelle von Symbolen (`&&`, `||`, etc.):"
   ]
  },
  {
   "cell_type": "code",
   "execution_count": 7,
   "metadata": {
    "colab": {
     "base_uri": "https://localhost:8080/",
     "height": 34
    },
    "id": "RvoImwgGL9fE",
    "outputId": "1517077b-edca-463f-857b-6a8c386cd387"
   },
   "outputs": [
    {
     "name": "stdout",
     "output_type": "stream",
     "text": [
      "<class 'bool'>\n"
     ]
    }
   ],
   "source": [
    "t, f = True, False\n",
    "print(type(t))"
   ]
  },
  {
   "cell_type": "markdown",
   "metadata": {
    "id": "YQgmQfOgL9fI"
   },
   "source": [
    "Hier die typischen Operationen:"
   ]
  },
  {
   "cell_type": "code",
   "execution_count": 8,
   "metadata": {
    "colab": {
     "base_uri": "https://localhost:8080/",
     "height": 86
    },
    "id": "6zYm7WzCL9fK",
    "outputId": "f3cebe76-5af4-473a-8127-88a1fd60560f"
   },
   "outputs": [
    {
     "name": "stdout",
     "output_type": "stream",
     "text": [
      "False\n",
      "True\n",
      "False\n",
      "True\n"
     ]
    }
   ],
   "source": [
    "print(t and f)  # Logisches UND;\n",
    "print(t or f)  # Logisches ODER;\n",
    "print(not t)  # Logisches NICHT;\n",
    "print(t != f)  # Logisches EXKLUSIVES ODER;"
   ]
  },
  {
   "cell_type": "markdown",
   "metadata": {
    "id": "UQnQWFEyL9fP"
   },
   "source": [
    "#### Strings"
   ]
  },
  {
   "cell_type": "code",
   "execution_count": 9,
   "metadata": {
    "colab": {
     "base_uri": "https://localhost:8080/",
     "height": 34
    },
    "id": "AijEDtPFL9fP",
    "outputId": "2a6b0cd7-58f1-43cf-e6b7-bf940d532549"
   },
   "outputs": [
    {
     "name": "stdout",
     "output_type": "stream",
     "text": [
      "HELLO 5\n"
     ]
    }
   ],
   "source": [
    "hello = \"HELLO\"  # String Literale sind agnostisch für Anführungszeichen\n",
    "world = \"WORLD\"\n",
    "print(hello, len(hello))"
   ]
  },
  {
   "cell_type": "code",
   "execution_count": 10,
   "metadata": {
    "colab": {
     "base_uri": "https://localhost:8080/",
     "height": 34
    },
    "id": "saDeaA7hL9fT",
    "outputId": "2837d0ab-9ae5-4053-d087-bfa0af81c344"
   },
   "outputs": [
    {
     "name": "stdout",
     "output_type": "stream",
     "text": [
      "HELLO WORLD\n"
     ]
    }
   ],
   "source": [
    "hw = hello + \" \" + world  # String concatenation\n",
    "print(hw)"
   ]
  },
  {
   "cell_type": "code",
   "execution_count": 11,
   "metadata": {
    "colab": {
     "base_uri": "https://localhost:8080/",
     "height": 34
    },
    "id": "Nji1_UjYL9fY",
    "outputId": "0149b0ca-425a-4a34-8e24-8dff7080922e"
   },
   "outputs": [
    {
     "name": "stdout",
     "output_type": "stream",
     "text": [
      "HELLO WORLD 12\n",
      "HELLO WORLD 12 HELLO WORLD here speaks the WORLD\n"
     ]
    }
   ],
   "source": [
    "hw12 = f\"{hello} {world} {12}\"  # string formatting\n",
    "print(hw12)\n",
    "# moderne Formatierung mit f\"<String>\" und ersetzung\n",
    "hw34 = f\"{hw12} {hw} here speaks the {world}\"\n",
    "print(hw34)"
   ]
  },
  {
   "cell_type": "markdown",
   "metadata": {
    "id": "bUpl35bIL9fc"
   },
   "source": [
    "String Objekte haben einige praktische Methoden:"
   ]
  },
  {
   "cell_type": "code",
   "execution_count": 12,
   "metadata": {
    "colab": {
     "base_uri": "https://localhost:8080/",
     "height": 121
    },
    "id": "VOxGatlsL9fd",
    "outputId": "ab009df3-8643-4d3e-f85f-a813b70db9cb"
   },
   "outputs": [
    {
     "name": "stdout",
     "output_type": "stream",
     "text": [
      "Hallo\n",
      "HALLO\n",
      "  hallo\n",
      " hallo \n",
      "ha(ell)(ell)o\n",
      "world\n"
     ]
    }
   ],
   "source": [
    "s = \"hallo\"\n",
    "print(s.capitalize())  # Eine Zeichenkette groß schreiben\n",
    "print(s.upper())  # Konvertiert eine Zeichenkette in Großbuchstaben; printet \"HELLO\"\n",
    "print(\n",
    "    s.rjust(7)\n",
    ")  # Eine Zeichenkette rechtsbündig ausrichten, mit Leerzeichen auffüllen\n",
    "print(s.center(7))  # Eine Zeichenkette zentrieren, mit Leerzeichen auffüllen\n",
    "print(\n",
    "    s.replace(\"l\", \"(ell)\")\n",
    ")  # Ersetze alle vorkommenden Teile einer Teilzeichenkette durch eine andere\n",
    "print(\" world \".strip())  # Führende und nachfolgende Leerzeichen entfernen"
   ]
  },
  {
   "cell_type": "markdown",
   "metadata": {
    "id": "06cayXLtL9fi"
   },
   "source": [
    "Hier finden Sie die Dokumentation von [String Methoden](https://docs.python.org/3.7/library/stdtypes.html#string-methods)."
   ]
  },
  {
   "cell_type": "markdown",
   "metadata": {},
   "source": [
    "### Konvertierung"
   ]
  },
  {
   "cell_type": "code",
   "execution_count": 13,
   "metadata": {},
   "outputs": [
    {
     "name": "stdout",
     "output_type": "stream",
     "text": [
      "5 <class 'int'>\n",
      "5.0 <class 'float'>\n",
      "Hello 5.5\n"
     ]
    },
    {
     "ename": "TypeError",
     "evalue": "can only concatenate str (not \"int\") to str",
     "output_type": "error",
     "traceback": [
      "\u001b[0;31m---------------------------------------------------------------------------\u001b[0m",
      "\u001b[0;31mTypeError\u001b[0m                                 Traceback (most recent call last)",
      "Input \u001b[0;32mIn [13]\u001b[0m, in \u001b[0;36m<module>\u001b[0;34m\u001b[0m\n\u001b[1;32m      2\u001b[0m \u001b[38;5;28mprint\u001b[39m(\u001b[38;5;28mfloat\u001b[39m(\u001b[38;5;124m'\u001b[39m\u001b[38;5;124m5\u001b[39m\u001b[38;5;124m'\u001b[39m), \u001b[38;5;28mtype\u001b[39m (\u001b[38;5;28mfloat\u001b[39m(\u001b[38;5;124m'\u001b[39m\u001b[38;5;124m5\u001b[39m\u001b[38;5;124m'\u001b[39m))) \u001b[38;5;66;03m# von String nach float\u001b[39;00m\n\u001b[1;32m      3\u001b[0m \u001b[38;5;28mprint\u001b[39m(\u001b[38;5;124m'\u001b[39m\u001b[38;5;124mHello \u001b[39m\u001b[38;5;124m'\u001b[39m \u001b[38;5;241m+\u001b[39m \u001b[38;5;28mstr\u001b[39m(\u001b[38;5;241m5.5\u001b[39m)) \u001b[38;5;66;03m# von int/float nach String\u001b[39;00m\n\u001b[0;32m----> 4\u001b[0m \u001b[38;5;28mprint\u001b[39m(\u001b[38;5;124;43m'\u001b[39;49m\u001b[38;5;124;43mHello\u001b[39;49m\u001b[38;5;124;43m'\u001b[39;49m\u001b[43m \u001b[49m\u001b[38;5;241;43m+\u001b[39;49m\u001b[43m \u001b[49m\u001b[38;5;241;43m5\u001b[39;49m)\n",
      "\u001b[0;31mTypeError\u001b[0m: can only concatenate str (not \"int\") to str"
     ]
    }
   ],
   "source": [
    "print(int(\"5\"), type(int(\"5\")))  # von String nach int\n",
    "print(float(\"5\"), type(float(\"5\")))  # von String nach float\n",
    "print(\"Hello \" + str(5.5))  # von int/float nach String\n",
    "print(\"Hello\" + 5)  # keine implizite konvertierung von int nach string"
   ]
  },
  {
   "cell_type": "markdown",
   "metadata": {
    "id": "p-6hClFjL9fk"
   },
   "source": [
    "### Container"
   ]
  },
  {
   "cell_type": "markdown",
   "metadata": {
    "id": "FD9H18eQL9fk"
   },
   "source": [
    "Python enthält mehrere eingebaute Containertypen: Listen, Dictionaries, Sets und Tuples."
   ]
  },
  {
   "cell_type": "markdown",
   "metadata": {
    "id": "UsIWOe0LL9fn"
   },
   "source": [
    "#### Listen"
   ]
  },
  {
   "cell_type": "markdown",
   "metadata": {
    "id": "wzxX7rgWL9fn"
   },
   "source": [
    "Eine Liste ist das Python-Äquivalent zu einem Array, kann aber in der Größe verändert werden und Elemente unterschiedlichen Typs enthalten:"
   ]
  },
  {
   "cell_type": "code",
   "execution_count": null,
   "metadata": {
    "colab": {
     "base_uri": "https://localhost:8080/",
     "height": 52
    },
    "id": "hk3A8pPcL9fp",
    "outputId": "b545939a-580c-4356-db95-7ad3670b46e4"
   },
   "outputs": [],
   "source": [
    "xs = [3, 1, 2]\n",
    "print(xs, xs[2])\n",
    "print(len(xs))  # Länge der Liste\n",
    "print(xs[-1])  # Negative indizes zählen vom Ende der Liste\n",
    "print(xs[2] == xs[len(xs) - 1] == xs[-1])  # Alle indizes sind Äquivalent"
   ]
  },
  {
   "cell_type": "code",
   "execution_count": null,
   "metadata": {
    "colab": {
     "base_uri": "https://localhost:8080/",
     "height": 34
    },
    "id": "YCjCy_0_L9ft",
    "outputId": "417c54ff-170b-4372-9099-0f756f8e48af"
   },
   "outputs": [],
   "source": [
    "xs[2] = \"foo\"  # Listen können beliebige Typen enthalten\n",
    "print(xs)"
   ]
  },
  {
   "cell_type": "code",
   "execution_count": null,
   "metadata": {
    "colab": {
     "base_uri": "https://localhost:8080/",
     "height": 34
    },
    "id": "vJ0x5cF-L9fx",
    "outputId": "a97731a3-70e1-4553-d9e0-2aea227cac80"
   },
   "outputs": [],
   "source": [
    "xs.append(\"bar\")  # Anhängen an die Liste\n",
    "print(xs)"
   ]
  },
  {
   "cell_type": "code",
   "execution_count": null,
   "metadata": {
    "colab": {
     "base_uri": "https://localhost:8080/",
     "height": 34
    },
    "id": "cxVCNRTNL9f1",
    "outputId": "508fbe59-20aa-48b5-a1b2-f90363e7a104"
   },
   "outputs": [],
   "source": [
    "x = xs.pop()  # gibt letztes Element der Liste zurück und entfernt es\n",
    "print(x, xs)"
   ]
  },
  {
   "cell_type": "markdown",
   "metadata": {
    "id": "ilyoyO34L9f4"
   },
   "source": [
    "Wie immer gibt es die Details in der [Dokumentation](https://docs.python.org/3.7/tutorial/datastructures.html#more-on-lists)."
   ]
  },
  {
   "cell_type": "markdown",
   "metadata": {
    "id": "ovahhxd_L9f5"
   },
   "source": [
    "#### Slicing"
   ]
  },
  {
   "cell_type": "markdown",
   "metadata": {
    "id": "YeSYKhv9L9f6"
   },
   "source": [
    "Zusätzlich zum Zugriff auf einzelne Listenelemente bietet Python eine präzise Syntax für den Zugriff auf Unterlisten; dies wird als Slicing bezeichnet:"
   ]
  },
  {
   "cell_type": "code",
   "execution_count": null,
   "metadata": {
    "colab": {
     "base_uri": "https://localhost:8080/",
     "height": 139
    },
    "id": "ninq666bL9f6",
    "outputId": "c3c2ed92-7358-4fdb-bbc0-e90f82e7e941"
   },
   "outputs": [],
   "source": [
    "nums = list(\n",
    "    range(5)\n",
    ")  # range ist eine eingebaute Funktion, die eine Liste von Ganzzahlen erstellt\n",
    "print(nums)  # Printet \"[0, 1, 2, 3, 4]\"\n",
    "# Holt ein Slice von Index 2 bis 4 (exklusiv); gibt \"[2, 3]\" aus\n",
    "print(nums[2:4])\n",
    "print(nums[2:])  # Holt ein Slice von Index 2 bis zum Ende; gibt \"[2, 3, 4]\" aus\n",
    "print(\n",
    "    nums[:2]\n",
    ")  # Holt ein Slice vom Anfang bis zum Index 2 (exklusiv); gibt \"[0, 1]\" aus\n",
    "# Holt einen Ausschnitt der gesamten Liste; gibt [\"0, 1, 2, 3, 4]\" aus\n",
    "print(nums[:])\n",
    "print(nums[:-1])  # Slice-Indizes können negativ sein; gibt [\"0, 1, 2, 3]\" aus\n",
    "nums[2:4] = [8, 9]  # Zuweisung einer neuen Teilliste zu einem Slice\n",
    "print(nums)  # Printet \"[0, 1, 8, 9, 4]\""
   ]
  },
  {
   "cell_type": "markdown",
   "metadata": {},
   "source": [
    "#### Advanced Slicing"
   ]
  },
  {
   "cell_type": "code",
   "execution_count": null,
   "metadata": {},
   "outputs": [],
   "source": [
    "start = 1\n",
    "stop = 7\n",
    "step = 1  # Schrittweite\n",
    "\n",
    "nums = list(range(10))  # 0 bis 9, 10 ist nicht dabei!\n",
    "print(nums)\n",
    "print(nums[::2])  # jedes zweite Element\n",
    "print(nums[start:stop:step])\n",
    "print(nums[::-1])  # negativer step -> rückwärts laufen"
   ]
  },
  {
   "cell_type": "markdown",
   "metadata": {
    "id": "UONpMhF4L9f_"
   },
   "source": [
    "#### Schleifen"
   ]
  },
  {
   "cell_type": "markdown",
   "metadata": {
    "id": "_DYz1j6QL9f_"
   },
   "source": [
    "Iterieren über eine Liste erfolgt so:"
   ]
  },
  {
   "cell_type": "code",
   "execution_count": null,
   "metadata": {
    "colab": {
     "base_uri": "https://localhost:8080/",
     "height": 69
    },
    "id": "4cCOysfWL9gA",
    "outputId": "560e46c7-279c-409a-838c-64bea8d321c4"
   },
   "outputs": [],
   "source": [
    "animals = [\"cat\", \"dog\", \"monkey\"]\n",
    "for animal in animals:\n",
    "    print(animal)"
   ]
  },
  {
   "cell_type": "markdown",
   "metadata": {
    "id": "KxIaQs7pL9gE"
   },
   "source": [
    "Wenn Sie Zugriff auf den Index jedes Elements innerhalb des Körpers einer Schleife haben wollen, verwenden Sie die eingebaute Funktion `enumerate`:"
   ]
  },
  {
   "cell_type": "code",
   "execution_count": null,
   "metadata": {
    "colab": {
     "base_uri": "https://localhost:8080/",
     "height": 69
    },
    "id": "JjGnDluWL9gF",
    "outputId": "81421905-17ea-4c5a-bcc0-176de19fd9bd"
   },
   "outputs": [],
   "source": [
    "animals = [\"cat\", \"dog\", \"monkey\"]\n",
    "for idx, animal in enumerate(animals):\n",
    "    print(f\"#{idx + 1}: {animal}\")"
   ]
  },
  {
   "cell_type": "markdown",
   "metadata": {
    "id": "arrLCcMyL9gK"
   },
   "source": [
    "#### List comprehensions:"
   ]
  },
  {
   "cell_type": "markdown",
   "metadata": {
    "id": "5Qn2jU_pL9gL"
   },
   "source": [
    "Beim Programmieren wollen wir häufig einen Datentyp in einen anderen umwandeln. Dies ist eine der mächtigsten Funktionen von Python und ersetzt funktionale Konzepte wie `map`, `filter` und `reduce`.\n",
    "\n",
    "Ein einfaches Beispiel ist der folgende Code zur Berechnung von Quadratzahlen:"
   ]
  },
  {
   "cell_type": "code",
   "execution_count": null,
   "metadata": {
    "colab": {
     "base_uri": "https://localhost:8080/",
     "height": 34
    },
    "id": "IVNEwoMXL9gL",
    "outputId": "d571445b-055d-45f0-f800-24fd76ceec5a"
   },
   "outputs": [],
   "source": [
    "nums = [0, 1, 2, 3, 4]\n",
    "squares = []\n",
    "for x in nums:\n",
    "    squares.append(x**2)\n",
    "print(squares)"
   ]
  },
  {
   "cell_type": "markdown",
   "metadata": {
    "id": "7DmKVUFaL9gQ"
   },
   "source": [
    "Sie können diesen Code vereinfachen, indem wir eine List Comprehension verwenden:"
   ]
  },
  {
   "cell_type": "code",
   "execution_count": null,
   "metadata": {
    "colab": {
     "base_uri": "https://localhost:8080/",
     "height": 34
    },
    "id": "kZxsUfV6L9gR",
    "outputId": "4254a7d4-58ba-4f70-a963-20c46b485b72"
   },
   "outputs": [],
   "source": [
    "nums = [0, 1, 2, 3, 4]\n",
    "squares = [x**2 for x in nums]\n",
    "print(squares)"
   ]
  },
  {
   "cell_type": "markdown",
   "metadata": {
    "id": "-D8ARK7tL9gV"
   },
   "source": [
    "Die List Comprehensions können auch Bedingungen enthalten:"
   ]
  },
  {
   "cell_type": "code",
   "execution_count": null,
   "metadata": {
    "colab": {
     "base_uri": "https://localhost:8080/",
     "height": 34
    },
    "id": "yUtgOyyYL9gV",
    "outputId": "1ae7ab58-8119-44dc-8e57-fda09197d026"
   },
   "outputs": [],
   "source": [
    "nums = [0, 1, 2, 3, 4]\n",
    "even_squares = [x**2 for x in nums if x % 2 == 0]\n",
    "print(even_squares)"
   ]
  },
  {
   "cell_type": "markdown",
   "metadata": {
    "id": "H8xsUEFpL9gZ"
   },
   "source": [
    "#### Dictionaries"
   ]
  },
  {
   "cell_type": "markdown",
   "metadata": {
    "id": "kkjAGMAJL9ga"
   },
   "source": [
    "Ein Dictionary speichert Paare (Key, Value), ähnlich wie eine \"Map\" in Java oder ein Objekt in Javascript. Sie können es wie folgt verwenden:"
   ]
  },
  {
   "cell_type": "code",
   "execution_count": null,
   "metadata": {
    "colab": {
     "base_uri": "https://localhost:8080/",
     "height": 52
    },
    "id": "XBYI1MrYL9gb",
    "outputId": "8e24c1da-0fc0-4b4c-a3e6-6f758a53b7da"
   },
   "outputs": [],
   "source": [
    "d = {\"cat\": \"cute\", \"dog\": \"furry\"}  # Dict erstellen\n",
    "print(d[\"cat\"])  # Zugriff via Key; prints \"cute\"\n",
    "print(\"cat\" in d)  # Ist ein bestimmter Wert zu einem Key vorhanden?; prints \"True\""
   ]
  },
  {
   "cell_type": "code",
   "execution_count": null,
   "metadata": {
    "colab": {
     "base_uri": "https://localhost:8080/",
     "height": 34
    },
    "id": "pS7e-G-HL9gf",
    "outputId": "feb4bf18-c0a3-42a2-eaf5-3fc390f36dcf"
   },
   "outputs": [],
   "source": [
    "d[\"fish\"] = \"wet\"  # Zuweisung\n",
    "print(d[\"fish\"])  # Prints \"wet\""
   ]
  },
  {
   "cell_type": "code",
   "execution_count": null,
   "metadata": {
    "colab": {
     "base_uri": "https://localhost:8080/",
     "height": 165
    },
    "id": "tFY065ItL9gi",
    "outputId": "7e42a5f0-1856-4608-a927-0930ab37a66c"
   },
   "outputs": [],
   "source": [
    "print(d[\"monkey\"])  # KeyError: 'monkey' not a key of d"
   ]
  },
  {
   "cell_type": "code",
   "execution_count": null,
   "metadata": {
    "colab": {
     "base_uri": "https://localhost:8080/",
     "height": 52
    },
    "id": "8TjbEWqML9gl",
    "outputId": "ef14d05e-401d-4d23-ed1a-0fe6b4c77d6f"
   },
   "outputs": [],
   "source": [
    "print(d.get(\"monkey\", \"N/A\"))  # Zugriff mit Default Wert; prints \"N/A\"\n",
    "print(d.get(\"fish\", \"N/A\"))"
   ]
  },
  {
   "cell_type": "code",
   "execution_count": null,
   "metadata": {
    "colab": {
     "base_uri": "https://localhost:8080/",
     "height": 34
    },
    "id": "0EItdNBJL9go",
    "outputId": "652a950f-b0c2-4623-98bd-0191b300cd57"
   },
   "outputs": [],
   "source": [
    "del d[\"fish\"]  # Einen Wert löschen\n",
    "print(d.get(\"fish\", \"N/A\"))  # \"fish\" ist kein Key mehr; prints \"N/A\""
   ]
  },
  {
   "cell_type": "markdown",
   "metadata": {
    "id": "wqm4dRZNL9gr"
   },
   "source": [
    "Alles weitere hält die [Dokumentation](https://docs.python.org/2/library/stdtypes.html#dict) bereit."
   ]
  },
  {
   "cell_type": "markdown",
   "metadata": {
    "id": "IxwEqHlGL9gr"
   },
   "source": [
    "Iteration über Dictionary:"
   ]
  },
  {
   "cell_type": "code",
   "execution_count": null,
   "metadata": {
    "colab": {
     "base_uri": "https://localhost:8080/",
     "height": 69
    },
    "id": "rYfz7ZKNL9gs",
    "outputId": "155bdb17-3179-4292-c832-8166e955e942"
   },
   "outputs": [],
   "source": [
    "d = {\"person\": 2, \"cat\": 4, \"spider\": 8}\n",
    "for animal, legs in d.items():\n",
    "    print(f\"A {animal} has {legs} legs\")"
   ]
  },
  {
   "cell_type": "markdown",
   "metadata": {
    "id": "17sxiOpzL9gz"
   },
   "source": [
    "Dictionary comprehensions: Sie ähneln den List Comprehensions, ermöglichen aber die einfache Erstellung von Dictionaries. Zum Beispiel:"
   ]
  },
  {
   "cell_type": "code",
   "execution_count": null,
   "metadata": {
    "colab": {
     "base_uri": "https://localhost:8080/",
     "height": 34
    },
    "id": "8PB07imLL9gz",
    "outputId": "e9ddf886-39ed-4f35-dd80-64a19d2eec9b"
   },
   "outputs": [],
   "source": [
    "nums = [0, 1, 2, 3, 4]\n",
    "even_num_to_square = {x: x**2 for x in nums if x % 2 == 0}\n",
    "print(even_num_to_square)"
   ]
  },
  {
   "cell_type": "markdown",
   "metadata": {
    "id": "V9MHfUdvL9g2"
   },
   "source": [
    "#### Sets (Mengen)"
   ]
  },
  {
   "cell_type": "markdown",
   "metadata": {
    "id": "Rpm4UtNpL9g2"
   },
   "source": [
    "Eine Menge ist eine ungeordnete Sammlung von unterschiedlichen Elementen. Ein einfaches Beispiel:"
   ]
  },
  {
   "cell_type": "code",
   "execution_count": null,
   "metadata": {
    "colab": {
     "base_uri": "https://localhost:8080/",
     "height": 52
    },
    "id": "MmyaniLsL9g2",
    "outputId": "8f152d48-0a07-432a-cf98-8de4fd57ddbb"
   },
   "outputs": [],
   "source": [
    "animals = {\"cat\", \"dog\"}\n",
    "print(\"cat\" in animals)  # Ist ein Element im Set?; prints \"True\"\n",
    "print(\"fish\" in animals)  # prints \"False\""
   ]
  },
  {
   "cell_type": "code",
   "execution_count": null,
   "metadata": {
    "colab": {
     "base_uri": "https://localhost:8080/",
     "height": 52
    },
    "id": "ElJEyK86L9g6",
    "outputId": "b9d7dab9-5a98-41cd-efbc-786d0c4377f7"
   },
   "outputs": [],
   "source": [
    "animals.add(\"fish\")  # Element hinzufügen\n",
    "print(\"fish\" in animals)\n",
    "print(len(animals))  # Anzahl der Element in der Menge"
   ]
  },
  {
   "cell_type": "code",
   "execution_count": null,
   "metadata": {
    "colab": {
     "base_uri": "https://localhost:8080/",
     "height": 52
    },
    "id": "5uGmrxdPL9g9",
    "outputId": "e644d24c-26c6-4b43-ab15-8aa81fe884d4"
   },
   "outputs": [],
   "source": [
    "animals.add(\"cat\")  # Adding an element that is already in the set does nothing\n",
    "print(len(animals))\n",
    "animals.remove(\"cat\")  # Element aus Menge entfernen\n",
    "print(len(animals))"
   ]
  },
  {
   "cell_type": "markdown",
   "metadata": {
    "id": "zk2DbvLKL9g_"
   },
   "source": [
    "**Schleifen** : Das Iterieren über eine Menge hat die gleiche Syntax wie das Iterieren über eine Liste; da Mengen jedoch ungeordnet sind, können Sie keine Annahmen über die Reihenfolge machen, in der Sie die Elemente der Menge ausgegeben werden:"
   ]
  },
  {
   "cell_type": "code",
   "execution_count": null,
   "metadata": {
    "colab": {
     "base_uri": "https://localhost:8080/",
     "height": 69
    },
    "id": "K47KYNGyL9hA",
    "outputId": "4477f897-4355-4816-b39b-b93ffbac4bf0"
   },
   "outputs": [],
   "source": [
    "animals = {\"cat\", \"dog\", \"fish\"}\n",
    "for idx, animal in enumerate(animals):\n",
    "    print(f\"#{idx + 1}: {animal}\")"
   ]
  },
  {
   "cell_type": "markdown",
   "metadata": {
    "id": "puq4S8buL9hC"
   },
   "source": [
    "Set comprehensions: Like lists and dictionaries, we can easily construct sets using set comprehensions:"
   ]
  },
  {
   "cell_type": "code",
   "execution_count": null,
   "metadata": {
    "colab": {
     "base_uri": "https://localhost:8080/",
     "height": 34
    },
    "id": "iw7k90k3L9hC",
    "outputId": "72d6b824-6d31-47b2-f929-4cf434590ee5"
   },
   "outputs": [],
   "source": [
    "print({int(sqrt(x)) for x in range(30)})"
   ]
  },
  {
   "cell_type": "markdown",
   "metadata": {
    "id": "qPsHSKB1L9hF"
   },
   "source": [
    "#### Tuple"
   ]
  },
  {
   "cell_type": "markdown",
   "metadata": {
    "id": "kucc0LKVL9hG"
   },
   "source": [
    "Ein Tupel ist eine (unveränderbare) geordnete Liste von Werten. Ein Tupel ähnelt in vielerlei Hinsicht einer Liste; einer der wichtigsten Unterschiede ist, dass Tupel als Schlüssel in Wörterbüchern und als Elemente von Mengen verwendet werden können (sie sind hashbar), während dies bei Listen nicht möglich ist. Hier ist ein triviales Beispiel:"
   ]
  },
  {
   "cell_type": "code",
   "execution_count": null,
   "metadata": {
    "colab": {
     "base_uri": "https://localhost:8080/",
     "height": 69
    },
    "id": "9wHUyTKxL9hH",
    "outputId": "cdc5f620-04fe-4b0b-df7a-55b061d23d88"
   },
   "outputs": [],
   "source": [
    "d = {(x, x + 1): x for x in range(10)}  # Create a dictionary with tuple keys\n",
    "t = (5, 6)  # Create a tuple\n",
    "print(type(t))\n",
    "print(d[t])\n",
    "print(d[(1, 2)])"
   ]
  },
  {
   "cell_type": "code",
   "execution_count": null,
   "metadata": {
    "colab": {
     "base_uri": "https://localhost:8080/",
     "height": 165
    },
    "id": "HoO8zYKzL9hJ",
    "outputId": "28862bfc-0298-40d7-f8c4-168e109d2d93"
   },
   "outputs": [],
   "source": [
    "t[0] = 1  # immutable"
   ]
  },
  {
   "cell_type": "markdown",
   "metadata": {
    "id": "AXA4jrEOL9hM"
   },
   "source": [
    "### Funktionen"
   ]
  },
  {
   "cell_type": "markdown",
   "metadata": {
    "id": "WaRms-QfL9hN"
   },
   "source": [
    "Python Funtionen werden mit dem`def` keyword definiert. Hier gleich mit einem `if`, `elif` und `else` Kontrollfluss:"
   ]
  },
  {
   "cell_type": "code",
   "execution_count": null,
   "metadata": {
    "colab": {
     "base_uri": "https://localhost:8080/",
     "height": 69
    },
    "id": "kiMDUr58L9hN",
    "outputId": "9f53bf9a-7b2a-4c51-9def-398e4677cd6c"
   },
   "outputs": [],
   "source": [
    "def sign(x):\n",
    "    if x > 0:\n",
    "        return \"positive\"\n",
    "    elif x < 0:\n",
    "        return \"negative\"\n",
    "    else:\n",
    "        return \"zero\"\n",
    "\n",
    "\n",
    "for x in [-1, 0, 1]:\n",
    "    print(sign(x))"
   ]
  },
  {
   "cell_type": "markdown",
   "metadata": {
    "id": "U-QJFt8TL9hR"
   },
   "source": [
    "Eine schöne eigenschaft von Python sind optionale keyword Argumente. "
   ]
  },
  {
   "cell_type": "code",
   "execution_count": null,
   "metadata": {
    "colab": {
     "base_uri": "https://localhost:8080/",
     "height": 52
    },
    "id": "PfsZ3DazL9hR",
    "outputId": "6e6af832-67d8-4d8c-949b-335927684ae3"
   },
   "outputs": [],
   "source": [
    "def hello(name, loud=False):\n",
    "    if loud:\n",
    "        print(f\"HELLO, {name.upper()}\")\n",
    "    else:\n",
    "        print(\n",
    "            f\"Hello, {name}!\"\n",
    "        )  # neuer format Sytanx man beachte das 'f' vor dem String\n",
    "\n",
    "\n",
    "hello(\"Bob\")\n",
    "hello(\"Fred\", loud=True)"
   ]
  },
  {
   "cell_type": "markdown",
   "metadata": {
    "id": "ObA9PRtQL9hT"
   },
   "source": [
    "### Klassen"
   ]
  },
  {
   "cell_type": "markdown",
   "metadata": {
    "id": "hAzL_lTkL9hU"
   },
   "source": [
    "Klassen in Python sind einfach zu definieren:"
   ]
  },
  {
   "cell_type": "code",
   "execution_count": null,
   "metadata": {
    "colab": {
     "base_uri": "https://localhost:8080/",
     "height": 52
    },
    "id": "RWdbaGigL9hU",
    "outputId": "4f6615c5-75a7-4ce4-8ea1-1e7f5e4e9fc3"
   },
   "outputs": [],
   "source": [
    "class Greeter:\n",
    "    \"\"\"Dokumentation der Klasse erfolgt über 3-fach Anführungszeichen\"\"\"\n",
    "\n",
    "    # Constructor\n",
    "    def __init__(\n",
    "        self, name\n",
    "    ):  # self ist eine konvention und dienst zur Referenzierung der Instanz\n",
    "        self.name = name  # instanz Variable, unterscheidet sich\n",
    "\n",
    "    # Instance method\n",
    "    def greet(self, loud=False):\n",
    "        if loud:\n",
    "            print(f\"HELLO, {self.name.upper()}\")\n",
    "        else:\n",
    "            print(f\"Hello, {self.name}!\")\n",
    "\n",
    "\n",
    "g = Greeter(\"Fred\")  # Construct an instance of the Greeter class\n",
    "g.greet()  # Call an instance method; prints \"Hello, Fred\"\n",
    "g.greet(loud=True)  # Call an instance method; prints \"HELLO, FRED!\""
   ]
  },
  {
   "cell_type": "code",
   "execution_count": null,
   "metadata": {},
   "outputs": [],
   "source": [
    "# Ruft Dokumentationsstring auf\n",
    "Greeter?"
   ]
  },
  {
   "cell_type": "markdown",
   "metadata": {},
   "source": [
    "### Data Klassen"
   ]
  },
  {
   "cell_type": "markdown",
   "metadata": {},
   "source": [
    "Data Classes sind praktisch um einfach Daten abzulegen ohne z.B. den Klassenkontruktor zu verwenden"
   ]
  },
  {
   "cell_type": "code",
   "execution_count": null,
   "metadata": {},
   "outputs": [],
   "source": [
    "@dataclass\n",
    "class InventoryItem:\n",
    "    \"\"\"Class for keeping track of an item in inventory.\"\"\"\n",
    "\n",
    "    name: str  # Beispiele für Type Annotations, diese sind meist optional\n",
    "    unit_price: float\n",
    "    quantity_on_hand: int = 0  # default value\n",
    "\n",
    "    def total_cost(self) -> float:\n",
    "        return self.unit_price * self.quantity_on_hand\n",
    "\n",
    "\n",
    "item = InventoryItem(name=\"Schrank\", unit_price=120.50, quantity_on_hand=10)\n",
    "print(item.total_cost())"
   ]
  },
  {
   "cell_type": "markdown",
   "metadata": {},
   "source": [
    "## Übungen zum Selbststudium"
   ]
  },
  {
   "cell_type": "markdown",
   "metadata": {},
   "source": [
    "### 1. Zahlen invertieren mal anders\n",
    "\n",
    "Gegeben sei eine natürliche Zahl N in Dezimaldarstellung. Geben sie eine Funktion an die die Zahl \"rückwärts\" ausgibt: für die `N = 124` lautet das Ergebnis `321`."
   ]
  },
  {
   "cell_type": "code",
   "execution_count": 3,
   "metadata": {},
   "outputs": [],
   "source": [
    "def reverse_number(N):\n",
    "    return int(str(N)[::-1])\n",
    "\n",
    "\n",
    "assert reverse_number(123) == 321"
   ]
  },
  {
   "cell_type": "markdown",
   "metadata": {},
   "source": [
    "### 2. Bubblesort"
   ]
  },
  {
   "cell_type": "markdown",
   "metadata": {},
   "source": [
    "Implementierien sie das klassiche [Bubblesort Verfahren](https://de.wikipedia.org/wiki/Bubblesort).\n",
    "Hinweis: praktische Funktionen hierfür sind `range` und einen Variablen swap kann in python auch ohne temporäre Variable erfolgen z.B.\n"
   ]
  },
  {
   "cell_type": "code",
   "execution_count": 4,
   "metadata": {},
   "outputs": [
    {
     "name": "stdout",
     "output_type": "stream",
     "text": [
      "1 2\n",
      "2 1\n"
     ]
    }
   ],
   "source": [
    "a, b = 1, 2  # Zuweisung auf einer Zeile\n",
    "print(a, b)\n",
    "b, a = a, b\n",
    "print(a, b)"
   ]
  },
  {
   "cell_type": "code",
   "execution_count": 25,
   "metadata": {},
   "outputs": [],
   "source": [
    "def bubblesort(arr):\n",
    "    if len(arr) <= 1:\n",
    "        return arr\n",
    "\n",
    "    for i in range(len(arr) - 1):\n",
    "        j = i + 1\n",
    "        if arr[i] > arr[j]:\n",
    "            arr[i], arr[j] = arr[j], arr[i]\n",
    "\n",
    "    return bubblesort(arr[:-1]) + [arr[-1]]\n",
    "\n",
    "\n",
    "array = [29, 11, 28, 95, 722, 10, 2, 18]\n",
    "sorted_array = bubblesort(array)\n",
    "\n",
    "assert sorted_array == sorted(array)"
   ]
  },
  {
   "cell_type": "markdown",
   "metadata": {},
   "source": [
    "### 3. Simpler CSV Parser"
   ]
  },
  {
   "cell_type": "markdown",
   "metadata": {},
   "source": [
    "CSV steht für Comma Seperated Values und dient dazu Daten zu serialisieren. Lesen sie die Datei \"01_test_data.csv\" ein und stellen Sie die Daten als Liste von Listen dar."
   ]
  },
  {
   "cell_type": "code",
   "execution_count": 32,
   "metadata": {},
   "outputs": [
    {
     "name": "stdout",
     "output_type": "stream",
     "text": [
      "Stunde Montag Dienstag Mittwoch Donnerstag Freitag\n",
      "\n",
      "1 Mathematik Deutsch Englisch Erdkunde Politik\n",
      "\n",
      "2 Sport Deutsch Englisch Sport Geschichte\n",
      "\n",
      "3 Sport \"Religion (ev.  kath.)\" Kunst  Kunst\n",
      "\n"
     ]
    }
   ],
   "source": [
    "def simple_csv_parser(filename, seperator=\",\"):\n",
    "    nested_lists = []\n",
    "    with open(filename) as file:\n",
    "        for l in file:\n",
    "            nested_lists.append(l.split(seperator))\n",
    "\n",
    "    for j in nested_lists:\n",
    "        print(\" \".join(j))\n",
    "\n",
    "\n",
    "simple_csv_parser(\"01_test_data.csv\")"
   ]
  },
  {
   "cell_type": "code",
   "execution_count": null,
   "metadata": {},
   "outputs": [],
   "source": [
    "# Ausgabe sollte sein:\n",
    "\n",
    "# Stunde Montag Dienstag Mittwoch Donnerstag Freitag\n",
    "# 1 Mathematik Deutsch Englisch Erdkunde Politik\n",
    "# 2 Sport Deutsch Englisch Sport Geschichte\n",
    "# 3 Sport \"Religion (ev.  kath.)\" Kunst  Kunst"
   ]
  },
  {
   "cell_type": "markdown",
   "metadata": {},
   "source": [
    "### 4.  HL7 Fhir Patienten Modell"
   ]
  },
  {
   "cell_type": "markdown",
   "metadata": {},
   "source": [
    "Wir möchten einen Patienten wie in HL7 Fhir vereinfacht nachbauen.\n",
    "\n",
    "1. Lesen Sie sich die Definition auf https://www.hl7.org/fhir/patient.html durch.\n",
    "2. Schauen Sie sich das Beispiel auf https://www.hl7.org/fhir/patient-examples-general.json.html an\n",
    "3. Bauen Sie jeweils (einfache) dataclasses für die Attribute\n",
    "    - name \n",
    "    - telecom\n",
    "4. Bauen Sie eine Data Class für Patient. Fügen Sie mindetens name, telecom, gender und birthdate als Attribute hinzu\n",
    "5. Benutzen sie https://docs.python.org/3/library/dataclasses.html#dataclasses.asdict und https://docs.python.org/3/library/json.html#json.dumps um ein JSON auszugeben\n",
    "6. Vergleichen Sie ihr JSON mit dem Beispiel aus 2 und überlegen Sie wie Sie weitere Felder implementieren würden\n",
    "7. (optional) implementieren Sie weitere Attribute"
   ]
  },
  {
   "cell_type": "code",
   "execution_count": 57,
   "metadata": {},
   "outputs": [
    {
     "name": "stdout",
     "output_type": "stream",
     "text": [
      "{\n",
      "    \"telecom\": [\n",
      "        {\n",
      "            \"system\": \"phone\",\n",
      "            \"value\": \"555-555-2003\",\n",
      "            \"use\": \"work\"\n",
      "        }\n",
      "    ],\n",
      "    \"name\": {\n",
      "        \"use\": \"official\",\n",
      "        \"family\": \"Everywomen\",\n",
      "        \"given\": [\n",
      "            \"Eve\"\n",
      "        ]\n",
      "    },\n",
      "    \"gender\": \"other\",\n",
      "    \"bithDate\": \"1990-11-04\"\n",
      "}\n"
     ]
    }
   ],
   "source": [
    "@dataclass\n",
    "class TelecomItem:\n",
    "    system: str\n",
    "    value: str\n",
    "    use: str\n",
    "\n",
    "\n",
    "@dataclass\n",
    "class NameItem:\n",
    "    use: str\n",
    "    family: str\n",
    "    given: List[str]\n",
    "\n",
    "\n",
    "@dataclass\n",
    "class FhirPatient:\n",
    "    telecom: List[TelecomItem]\n",
    "    name: NameItem\n",
    "    gender: str\n",
    "    bithDate: date\n",
    "\n",
    "\n",
    "patient = FhirPatient(\n",
    "    telecom=[TelecomItem(system=\"phone\", value=\"555-555-2003\", use=\"work\")],\n",
    "    name=NameItem(use=\"official\", family=\"Everywomen\", given=[\"Eve\"]),\n",
    "    gender=\"other\",\n",
    "    bithDate=date.fromisoformat(\"1990-11-04\"),\n",
    ")\n",
    "\n",
    "patient_dict = asdict(patient)\n",
    "patient_json = json.dumps(\n",
    "    patient_dict, indent=4, default=str\n",
    ")  # default=str braucht man um datetime objekte automatisch zu serialisieren\n",
    "\n",
    "print(patient_json)"
   ]
  },
  {
   "cell_type": "code",
   "execution_count": null,
   "metadata": {},
   "outputs": [],
   "source": []
  }
 ],
 "metadata": {
  "colab": {
   "collapsed_sections": [],
   "name": "colab-tutorial.ipynb",
   "provenance": []
  },
  "kernelspec": {
   "display_name": "Python 3 (ipykernel)",
   "language": "python",
   "name": "python3"
  },
  "language_info": {
   "codemirror_mode": {
    "name": "ipython",
    "version": 3
   },
   "file_extension": ".py",
   "mimetype": "text/x-python",
   "name": "python",
   "nbconvert_exporter": "python",
   "pygments_lexer": "ipython3",
   "version": "3.10.5"
  }
 },
 "nbformat": 4,
 "nbformat_minor": 1
}
