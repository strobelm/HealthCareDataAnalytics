{
 "cells": [
  {
   "cell_type": "code",
   "execution_count": 2,
   "id": "433a23da",
   "metadata": {},
   "outputs": [],
   "source": [
    "import numpy as np"
   ]
  },
  {
   "cell_type": "code",
   "execution_count": 11,
   "id": "3c325803",
   "metadata": {},
   "outputs": [],
   "source": [
    "y_pred = np.array([\"cat\", \"dog\", \"dog\", \"cat\", \"dog\", \"dog\"])\n",
    "y_true = np.array([\"cat\", \"dog\", \"cat\", \"cat\", \"dog\", \"cat\"])"
   ]
  },
  {
   "cell_type": "code",
   "execution_count": 17,
   "id": "b5a213da",
   "metadata": {},
   "outputs": [],
   "source": [
    "from sklearn.metrics import confusion_matrix, precision_score, recall_score"
   ]
  },
  {
   "cell_type": "code",
   "execution_count": 13,
   "id": "3f10a24c",
   "metadata": {},
   "outputs": [
    {
     "data": {
      "text/plain": [
       "0.5"
      ]
     },
     "execution_count": 13,
     "metadata": {},
     "output_type": "execute_result"
    }
   ],
   "source": [
    "precision_score(y_true=y_true, y_pred=y_pred, pos_label=\"dog\")"
   ]
  },
  {
   "cell_type": "code",
   "execution_count": 14,
   "id": "9ed66728",
   "metadata": {},
   "outputs": [
    {
     "data": {
      "text/plain": [
       "1.0"
      ]
     },
     "execution_count": 14,
     "metadata": {},
     "output_type": "execute_result"
    }
   ],
   "source": [
    "recall_score(y_true=y_true, y_pred=y_pred, pos_label=\"dog\")"
   ]
  },
  {
   "cell_type": "code",
   "execution_count": 18,
   "id": "60c51f07",
   "metadata": {},
   "outputs": [],
   "source": [
    "CM = confusion_matrix(y_true, y_pred)\n",
    "\n",
    "TN = CM[0][0]\n",
    "FN = CM[1][0]\n",
    "TP = CM[1][1]\n",
    "FP = CM[0][1]"
   ]
  },
  {
   "cell_type": "code",
   "execution_count": 19,
   "id": "d71f4507",
   "metadata": {},
   "outputs": [
    {
     "data": {
      "text/plain": [
       "(2, 0, 2, 2)"
      ]
     },
     "execution_count": 19,
     "metadata": {},
     "output_type": "execute_result"
    }
   ],
   "source": [
    "(TN, FN, TP, FP)"
   ]
  },
  {
   "cell_type": "code",
   "execution_count": null,
   "id": "92c7288f",
   "metadata": {},
   "outputs": [],
   "source": []
  }
 ],
 "metadata": {
  "kernelspec": {
   "display_name": "Python 3.8 (ipykernel)",
   "language": "python",
   "name": "python3.8"
  },
  "language_info": {
   "codemirror_mode": {
    "name": "ipython",
    "version": 3
   },
   "file_extension": ".py",
   "mimetype": "text/x-python",
   "name": "python",
   "nbconvert_exporter": "python",
   "pygments_lexer": "ipython3",
   "version": "3.8.13"
  }
 },
 "nbformat": 4,
 "nbformat_minor": 5
}
