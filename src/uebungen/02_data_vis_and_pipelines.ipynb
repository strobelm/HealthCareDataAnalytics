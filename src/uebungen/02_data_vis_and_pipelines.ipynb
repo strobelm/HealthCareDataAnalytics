{
 "cells": [
  {
   "cell_type": "markdown",
   "id": "e695d780",
   "metadata": {},
   "source": [
    "#  Heart failure prediction"
   ]
  },
  {
   "cell_type": "markdown",
   "id": "72522640",
   "metadata": {},
   "source": [
    "## Imports"
   ]
  },
  {
   "cell_type": "code",
   "execution_count": 67,
   "id": "73ebabb6",
   "metadata": {},
   "outputs": [],
   "source": [
    "import numpy as np\n",
    "import pandas as pd"
   ]
  },
  {
   "cell_type": "markdown",
   "id": "4fdfa1fe",
   "metadata": {},
   "source": [
    "## Exploratory Data Engineering"
   ]
  },
  {
   "cell_type": "code",
   "execution_count": 3,
   "id": "ed0aa6d8",
   "metadata": {},
   "outputs": [
    {
     "data": {
      "text/html": [
       "<div>\n",
       "<style scoped>\n",
       "    .dataframe tbody tr th:only-of-type {\n",
       "        vertical-align: middle;\n",
       "    }\n",
       "\n",
       "    .dataframe tbody tr th {\n",
       "        vertical-align: top;\n",
       "    }\n",
       "\n",
       "    .dataframe thead th {\n",
       "        text-align: right;\n",
       "    }\n",
       "</style>\n",
       "<table border=\"1\" class=\"dataframe\">\n",
       "  <thead>\n",
       "    <tr style=\"text-align: right;\">\n",
       "      <th></th>\n",
       "      <th>Age</th>\n",
       "      <th>Sex</th>\n",
       "      <th>ChestPainType</th>\n",
       "      <th>RestingBP</th>\n",
       "      <th>Cholesterol</th>\n",
       "      <th>FastingBS</th>\n",
       "      <th>RestingECG</th>\n",
       "      <th>MaxHR</th>\n",
       "      <th>ExerciseAngina</th>\n",
       "      <th>Oldpeak</th>\n",
       "      <th>ST_Slope</th>\n",
       "      <th>HeartDisease</th>\n",
       "    </tr>\n",
       "  </thead>\n",
       "  <tbody>\n",
       "    <tr>\n",
       "      <th>0</th>\n",
       "      <td>40.0</td>\n",
       "      <td>M</td>\n",
       "      <td>ATA</td>\n",
       "      <td>140.0</td>\n",
       "      <td>289.0</td>\n",
       "      <td>0.0</td>\n",
       "      <td>Normal</td>\n",
       "      <td>172.0</td>\n",
       "      <td>N</td>\n",
       "      <td>0.0</td>\n",
       "      <td>Up</td>\n",
       "      <td>0.0</td>\n",
       "    </tr>\n",
       "    <tr>\n",
       "      <th>1</th>\n",
       "      <td>49.0</td>\n",
       "      <td>F</td>\n",
       "      <td>NAP</td>\n",
       "      <td>160.0</td>\n",
       "      <td>180.0</td>\n",
       "      <td>0.0</td>\n",
       "      <td>Normal</td>\n",
       "      <td>156.0</td>\n",
       "      <td>N</td>\n",
       "      <td>1.0</td>\n",
       "      <td>Flat</td>\n",
       "      <td>1.0</td>\n",
       "    </tr>\n",
       "    <tr>\n",
       "      <th>2</th>\n",
       "      <td>37.0</td>\n",
       "      <td>M</td>\n",
       "      <td>ATA</td>\n",
       "      <td>130.0</td>\n",
       "      <td>283.0</td>\n",
       "      <td>0.0</td>\n",
       "      <td>ST</td>\n",
       "      <td>98.0</td>\n",
       "      <td>N</td>\n",
       "      <td>0.0</td>\n",
       "      <td>Up</td>\n",
       "      <td>0.0</td>\n",
       "    </tr>\n",
       "    <tr>\n",
       "      <th>3</th>\n",
       "      <td>48.0</td>\n",
       "      <td>F</td>\n",
       "      <td>ASY</td>\n",
       "      <td>138.0</td>\n",
       "      <td>214.0</td>\n",
       "      <td>0.0</td>\n",
       "      <td>Normal</td>\n",
       "      <td>108.0</td>\n",
       "      <td>Y</td>\n",
       "      <td>1.5</td>\n",
       "      <td>NaN</td>\n",
       "      <td>1.0</td>\n",
       "    </tr>\n",
       "    <tr>\n",
       "      <th>4</th>\n",
       "      <td>54.0</td>\n",
       "      <td>M</td>\n",
       "      <td>NAP</td>\n",
       "      <td>150.0</td>\n",
       "      <td>NaN</td>\n",
       "      <td>0.0</td>\n",
       "      <td>Normal</td>\n",
       "      <td>122.0</td>\n",
       "      <td>N</td>\n",
       "      <td>0.0</td>\n",
       "      <td>Up</td>\n",
       "      <td>0.0</td>\n",
       "    </tr>\n",
       "  </tbody>\n",
       "</table>\n",
       "</div>"
      ],
      "text/plain": [
       "    Age Sex ChestPainType  RestingBP  Cholesterol  FastingBS RestingECG  \\\n",
       "0  40.0   M           ATA      140.0        289.0        0.0     Normal   \n",
       "1  49.0   F           NAP      160.0        180.0        0.0     Normal   \n",
       "2  37.0   M           ATA      130.0        283.0        0.0         ST   \n",
       "3  48.0   F           ASY      138.0        214.0        0.0     Normal   \n",
       "4  54.0   M           NAP      150.0          NaN        0.0     Normal   \n",
       "\n",
       "   MaxHR ExerciseAngina  Oldpeak ST_Slope  HeartDisease  \n",
       "0  172.0              N      0.0       Up           0.0  \n",
       "1  156.0              N      1.0     Flat           1.0  \n",
       "2   98.0              N      0.0       Up           0.0  \n",
       "3  108.0              Y      1.5      NaN           1.0  \n",
       "4  122.0              N      0.0       Up           0.0  "
      ]
     },
     "execution_count": 3,
     "metadata": {},
     "output_type": "execute_result"
    }
   ],
   "source": [
    "heart_data = pd.read_csv('data/heart_unclean.csv')\n",
    "heart_data.head()"
   ]
  },
  {
   "cell_type": "code",
   "execution_count": 4,
   "id": "5b4b454f",
   "metadata": {},
   "outputs": [
    {
     "name": "stdout",
     "output_type": "stream",
     "text": [
      "<class 'pandas.core.frame.DataFrame'>\n",
      "RangeIndex: 918 entries, 0 to 917\n",
      "Data columns (total 12 columns):\n",
      " #   Column          Non-Null Count  Dtype  \n",
      "---  ------          --------------  -----  \n",
      " 0   Age             901 non-null    float64\n",
      " 1   Sex             906 non-null    object \n",
      " 2   ChestPainType   900 non-null    object \n",
      " 3   RestingBP       899 non-null    float64\n",
      " 4   Cholesterol     900 non-null    float64\n",
      " 5   FastingBS       904 non-null    float64\n",
      " 6   RestingECG      898 non-null    object \n",
      " 7   MaxHR           892 non-null    float64\n",
      " 8   ExerciseAngina  896 non-null    object \n",
      " 9   Oldpeak         896 non-null    float64\n",
      " 10  ST_Slope        897 non-null    object \n",
      " 11  HeartDisease    898 non-null    float64\n",
      "dtypes: float64(7), object(5)\n",
      "memory usage: 86.2+ KB\n"
     ]
    }
   ],
   "source": [
    "heart_data.info()"
   ]
  },
  {
   "cell_type": "code",
   "execution_count": 5,
   "id": "9f6db502",
   "metadata": {},
   "outputs": [
    {
     "data": {
      "text/html": [
       "<div>\n",
       "<style scoped>\n",
       "    .dataframe tbody tr th:only-of-type {\n",
       "        vertical-align: middle;\n",
       "    }\n",
       "\n",
       "    .dataframe tbody tr th {\n",
       "        vertical-align: top;\n",
       "    }\n",
       "\n",
       "    .dataframe thead th {\n",
       "        text-align: right;\n",
       "    }\n",
       "</style>\n",
       "<table border=\"1\" class=\"dataframe\">\n",
       "  <thead>\n",
       "    <tr style=\"text-align: right;\">\n",
       "      <th></th>\n",
       "      <th>Age</th>\n",
       "      <th>RestingBP</th>\n",
       "      <th>Cholesterol</th>\n",
       "      <th>FastingBS</th>\n",
       "      <th>MaxHR</th>\n",
       "      <th>Oldpeak</th>\n",
       "      <th>HeartDisease</th>\n",
       "    </tr>\n",
       "  </thead>\n",
       "  <tbody>\n",
       "    <tr>\n",
       "      <th>count</th>\n",
       "      <td>901.000000</td>\n",
       "      <td>899.000000</td>\n",
       "      <td>900.000000</td>\n",
       "      <td>904.000000</td>\n",
       "      <td>892.000000</td>\n",
       "      <td>896.000000</td>\n",
       "      <td>898.000000</td>\n",
       "    </tr>\n",
       "    <tr>\n",
       "      <th>mean</th>\n",
       "      <td>53.489456</td>\n",
       "      <td>132.395996</td>\n",
       "      <td>198.657778</td>\n",
       "      <td>0.231195</td>\n",
       "      <td>136.706278</td>\n",
       "      <td>0.876897</td>\n",
       "      <td>0.550111</td>\n",
       "    </tr>\n",
       "    <tr>\n",
       "      <th>std</th>\n",
       "      <td>9.452639</td>\n",
       "      <td>18.482551</td>\n",
       "      <td>109.555724</td>\n",
       "      <td>0.421830</td>\n",
       "      <td>25.481514</td>\n",
       "      <td>1.060458</td>\n",
       "      <td>0.497760</td>\n",
       "    </tr>\n",
       "    <tr>\n",
       "      <th>min</th>\n",
       "      <td>28.000000</td>\n",
       "      <td>0.000000</td>\n",
       "      <td>0.000000</td>\n",
       "      <td>0.000000</td>\n",
       "      <td>60.000000</td>\n",
       "      <td>-2.600000</td>\n",
       "      <td>0.000000</td>\n",
       "    </tr>\n",
       "    <tr>\n",
       "      <th>25%</th>\n",
       "      <td>47.000000</td>\n",
       "      <td>120.000000</td>\n",
       "      <td>172.750000</td>\n",
       "      <td>0.000000</td>\n",
       "      <td>120.000000</td>\n",
       "      <td>0.000000</td>\n",
       "      <td>0.000000</td>\n",
       "    </tr>\n",
       "    <tr>\n",
       "      <th>50%</th>\n",
       "      <td>54.000000</td>\n",
       "      <td>130.000000</td>\n",
       "      <td>223.000000</td>\n",
       "      <td>0.000000</td>\n",
       "      <td>138.000000</td>\n",
       "      <td>0.500000</td>\n",
       "      <td>1.000000</td>\n",
       "    </tr>\n",
       "    <tr>\n",
       "      <th>75%</th>\n",
       "      <td>60.000000</td>\n",
       "      <td>140.000000</td>\n",
       "      <td>267.000000</td>\n",
       "      <td>0.000000</td>\n",
       "      <td>155.000000</td>\n",
       "      <td>1.500000</td>\n",
       "      <td>1.000000</td>\n",
       "    </tr>\n",
       "    <tr>\n",
       "      <th>max</th>\n",
       "      <td>77.000000</td>\n",
       "      <td>200.000000</td>\n",
       "      <td>603.000000</td>\n",
       "      <td>1.000000</td>\n",
       "      <td>202.000000</td>\n",
       "      <td>6.200000</td>\n",
       "      <td>1.000000</td>\n",
       "    </tr>\n",
       "  </tbody>\n",
       "</table>\n",
       "</div>"
      ],
      "text/plain": [
       "              Age   RestingBP  Cholesterol   FastingBS       MaxHR  \\\n",
       "count  901.000000  899.000000   900.000000  904.000000  892.000000   \n",
       "mean    53.489456  132.395996   198.657778    0.231195  136.706278   \n",
       "std      9.452639   18.482551   109.555724    0.421830   25.481514   \n",
       "min     28.000000    0.000000     0.000000    0.000000   60.000000   \n",
       "25%     47.000000  120.000000   172.750000    0.000000  120.000000   \n",
       "50%     54.000000  130.000000   223.000000    0.000000  138.000000   \n",
       "75%     60.000000  140.000000   267.000000    0.000000  155.000000   \n",
       "max     77.000000  200.000000   603.000000    1.000000  202.000000   \n",
       "\n",
       "          Oldpeak  HeartDisease  \n",
       "count  896.000000    898.000000  \n",
       "mean     0.876897      0.550111  \n",
       "std      1.060458      0.497760  \n",
       "min     -2.600000      0.000000  \n",
       "25%      0.000000      0.000000  \n",
       "50%      0.500000      1.000000  \n",
       "75%      1.500000      1.000000  \n",
       "max      6.200000      1.000000  "
      ]
     },
     "execution_count": 5,
     "metadata": {},
     "output_type": "execute_result"
    }
   ],
   "source": [
    "heart_data.describe()"
   ]
  },
  {
   "cell_type": "markdown",
   "id": "90e53f85",
   "metadata": {},
   "source": [
    "### Count NaN / Null values"
   ]
  },
  {
   "cell_type": "code",
   "execution_count": 10,
   "id": "98f4b0ec",
   "metadata": {},
   "outputs": [
    {
     "data": {
      "text/plain": [
       "MaxHR             26\n",
       "ExerciseAngina    22\n",
       "Oldpeak           22\n",
       "ST_Slope          21\n",
       "RestingECG        20\n",
       "HeartDisease      20\n",
       "RestingBP         19\n",
       "ChestPainType     18\n",
       "Cholesterol       18\n",
       "Age               17\n",
       "FastingBS         14\n",
       "Sex               12\n",
       "dtype: int64"
      ]
     },
     "execution_count": 10,
     "metadata": {},
     "output_type": "execute_result"
    }
   ],
   "source": [
    "heart_data.isnull().sum().sort_values(ascending = False)"
   ]
  },
  {
   "cell_type": "markdown",
   "id": "bdde69da",
   "metadata": {},
   "source": [
    "## Plotting Numerical and Categorial Features"
   ]
  },
  {
   "cell_type": "code",
   "execution_count": 41,
   "id": "b881373c",
   "metadata": {},
   "outputs": [],
   "source": [
    "import matplotlib.pyplot as plt\n",
    "import seaborn as sns\n",
    "\n",
    "%matplotlib inline"
   ]
  },
  {
   "cell_type": "code",
   "execution_count": 42,
   "id": "c6ac70a3",
   "metadata": {},
   "outputs": [],
   "source": [
    "numeric_features = [\"Age\", \"RestingBP\", \"Cholesterol\", \"MaxHR\", \"Oldpeak\", \"FastingBS\"]\n",
    "categorical_features = [\"Sex\", \"ChestPainType\", \"RestingECG\", \"ExerciseAngina\", \"ST_Slope\"]"
   ]
  },
  {
   "cell_type": "code",
   "execution_count": 13,
   "id": "4e186639",
   "metadata": {},
   "outputs": [
    {
     "data": {
      "image/png": "[encoded data removed]",
      "text/plain": [
       "<Figure size 1080x720 with 6 Axes>"
      ]
     },
     "metadata": {
      "needs_background": "light"
     },
     "output_type": "display_data"
    }
   ],
   "source": [
    "f, axes = plt.subplots(2, 3, figsize=(15, 10))\n",
    "\n",
    "for i,k in enumerate(categorical_features + ['HeartDisease']):\n",
    "    sns.countplot(x = heart_data[k], data = heart_data, palette='rocket', ax = axes.flat[i])\n",
    "plt.show()\n"
   ]
  },
  {
   "cell_type": "code",
   "execution_count": 47,
   "id": "1e486e4e",
   "metadata": {},
   "outputs": [
    {
     "data": {
      "image/png": "[encoded data removed]",
      "text/plain": [
       "<Figure size 1080x720 with 6 Axes>"
      ]
     },
     "metadata": {
      "needs_background": "light"
     },
     "output_type": "display_data"
    }
   ],
   "source": [
    "f, axes = plt.subplots(2, 3, figsize=(15, 10))\n",
    "\n",
    "for i,k in enumerate([x for x in numeric_features]):\n",
    "    cat = heart_data[k].unique()\n",
    "    sns.histplot(x = heart_data[k], data = heart_data[k], palette='rocket', ax = axes.flat[i], bins=10)\n",
    "plt.show()"
   ]
  },
  {
   "cell_type": "code",
   "execution_count": 66,
   "id": "29fdabe4",
   "metadata": {},
   "outputs": [
    {
     "data": {
      "image/png": "[encoded data removed]",
      "text/plain": [
       "<Figure size 1080x1440 with 5 Axes>"
      ]
     },
     "metadata": {
      "needs_background": "light"
     },
     "output_type": "display_data"
    }
   ],
   "source": [
    "f, axes = plt.subplots(len(numeric_features) - 1, 1, figsize=(15, 20))\n",
    "\n",
    "for i,k in enumerate([x for x in numeric_features if x != 'FastingBS']):\n",
    "    sns.boxplot(x = heart_data[k], data = heart_data[k], palette='rocket', ax = axes.flat[i], orient='h')\n",
    "plt.show()"
   ]
  },
  {
   "cell_type": "code",
   "execution_count": null,
   "id": "3b0e89fc",
   "metadata": {},
   "outputs": [],
   "source": []
  },
  {
   "cell_type": "markdown",
   "id": "f7aad19d",
   "metadata": {},
   "source": [
    "## Generate Data Pipeline"
   ]
  },
  {
   "cell_type": "code",
   "execution_count": null,
   "id": "08daac28",
   "metadata": {},
   "outputs": [],
   "source": [
    "heart_num = heart_data[numeric_features]\n",
    "heart_cat = heart_data[categorical_features]"
   ]
  },
  {
   "cell_type": "code",
   "execution_count": 38,
   "id": "55a8745e",
   "metadata": {},
   "outputs": [],
   "source": [
    "from sklearn.compose import ColumnTransformer\n",
    "from sklearn.pipeline import Pipeline\n",
    "from sklearn.impute import SimpleImputer\n",
    "from sklearn.preprocessing import StandardScaler, OneHotEncoder\n",
    "\n",
    "numeric_transformer = Pipeline(\n",
    "    steps=[(\"imputer\", SimpleImputer(strategy=\"median\"))]\n",
    ")\n",
    "\n",
    "categorical_transformer = OneHotEncoder(handle_unknown=\"ignore\")\n",
    "\n",
    "pipeline = ColumnTransformer(\n",
    "    transformers=[\n",
    "        (\"num\", numeric_transformer, numeric_features),\n",
    "        (\"cat\", categorical_transformer, categorical_features),\n",
    "    ]\n",
    ")"
   ]
  },
  {
   "cell_type": "code",
   "execution_count": 40,
   "id": "85e07ccb",
   "metadata": {},
   "outputs": [
    {
     "ename": "TypeError",
     "evalue": "'ColumnTransformer' object is not subscriptable",
     "output_type": "error",
     "traceback": [
      "\u001b[0;31m---------------------------------------------------------------------------\u001b[0m",
      "\u001b[0;31mTypeError\u001b[0m                                 Traceback (most recent call last)",
      "Input \u001b[0;32mIn [40]\u001b[0m, in \u001b[0;36m<cell line: 4>\u001b[0;34m()\u001b[0m\n\u001b[1;32m      1\u001b[0m pipeline\u001b[38;5;241m.\u001b[39mfit(heart_data)\n\u001b[1;32m      2\u001b[0m \u001b[38;5;66;03m#preprocessed = preprocessor.fit_transform(heart_data)\u001b[39;00m\n\u001b[1;32m      3\u001b[0m \u001b[38;5;66;03m#pd.DataFrame(preprocessed, columns=heart_data.columns)\u001b[39;00m\n\u001b[0;32m----> 4\u001b[0m pipeline[:\u001b[38;5;241m-\u001b[39m\u001b[38;5;241m1\u001b[39m]\u001b[38;5;241m.\u001b[39mget_feature_names_out()\n",
      "\u001b[0;31mTypeError\u001b[0m: 'ColumnTransformer' object is not subscriptable"
     ]
    }
   ],
   "source": [
    "pipeline.fit(heart_data)\n",
    "#preprocessed = preprocessor.fit_transform(heart_data)\n",
    "#pd.DataFrame(preprocessed, columns=heart_data.columns)\n",
    "pipeline[:-1].get_feature_names_out()\n"
   ]
  },
  {
   "cell_type": "markdown",
   "id": "7a0c96d1",
   "metadata": {},
   "source": [
    "### Decision Tree"
   ]
  },
  {
   "cell_type": "code",
   "execution_count": 16,
   "id": "ee716088",
   "metadata": {},
   "outputs": [
    {
     "data": {
      "text/plain": [
       "'images/tree.png'"
      ]
     },
     "execution_count": 16,
     "metadata": {},
     "output_type": "execute_result"
    }
   ],
   "source": [
    "from sklearn.tree import DecisionTreeClassifier\n",
    "from sklearn import tree\n",
    "import graphviz\n",
    "\n",
    "transformed_column_names = list(preprocessor.transformers_[1][1].get_feature_names(categorical_features))\n",
    "\n",
    "clf = DecisionTreeClassifier(max_depth=2)\n",
    "clf.fit(X_train_prepared, y_train)\n",
    "dot_data = tree.export_graphviz(clf, out_file=None, \n",
    "                     feature_names=numeric_features + transformed_column_names,  \n",
    "                     class_names=[\"Heart Desease\", \"No Heart Desease\"],\n",
    "                     filled=True, rounded=True,  \n",
    "                     special_characters=True)  \n",
    "graph = graphviz.Source(dot_data)\n",
    "graph.render('images/tree', format='png')"
   ]
  },
  {
   "cell_type": "code",
   "execution_count": 17,
   "id": "af4d4453",
   "metadata": {},
   "outputs": [
    {
     "name": "stdout",
     "output_type": "stream",
     "text": [
      "precision: 0.794392523364486\n",
      "recall: 0.794392523364486\n",
      "accuracy: 0.7608695652173914\n",
      "f1_score: 0.794392523364486\n"
     ]
    }
   ],
   "source": [
    "from sklearn.metrics import precision_recall_fscore_support as score\n",
    "\n",
    "X_test_prepared = preprocessor.transform(X_test)\n",
    "predicted = clf.predict(X_test_prepared)\n",
    "\n",
    "#, recall, fscore, support = score(y_test, predicted)\n",
    "precision = precision_score(y_pred = predicted, y_true = y_test)\n",
    "accuracy = accuracy_score(y_pred = predicted, y_true = y_test)\n",
    "recall = recall_score(y_pred = predicted, y_true = y_test)\n",
    "f1score = f1_score(y_pred = predicted, y_true = y_test)\n",
    "\n",
    "print('precision: {}'.format(precision))\n",
    "print('recall: {}'.format(recall))\n",
    "print('accuracy: {}'.format(accuracy))\n",
    "print('f1_score: {}'.format(f1score))\n",
    "#print('support: {}'.format(support))"
   ]
  },
  {
   "cell_type": "markdown",
   "id": "483202d1",
   "metadata": {},
   "source": [
    "### Neural Network"
   ]
  },
  {
   "cell_type": "code",
   "execution_count": 18,
   "id": "15fd91ed",
   "metadata": {},
   "outputs": [
    {
     "name": "stderr",
     "output_type": "stream",
     "text": [
      "2021-12-09 10:38:01.654364: I tensorflow/core/profiler/lib/profiler_session.cc:131] Profiler session initializing.\n",
      "2021-12-09 10:38:01.654397: I tensorflow/core/profiler/lib/profiler_session.cc:146] Profiler session started.\n",
      "2021-12-09 10:38:01.654798: I tensorflow/core/profiler/lib/profiler_session.cc:164] Profiler session tear down.\n",
      "2021-12-09 10:38:01.665027: I tensorflow/core/platform/cpu_feature_guard.cc:142] This TensorFlow binary is optimized with oneAPI Deep Neural Network Library (oneDNN) to use the following CPU instructions in performance-critical operations:  SSE3 SSE4.1 SSE4.2 AVX AVX2 FMA\n",
      "To enable them in other operations, rebuild TensorFlow with the appropriate compiler flags.\n",
      "2021-12-09 10:38:01.666777: I tensorflow/core/common_runtime/process_util.cc:146] Creating new thread pool with default inter op setting: 2. Tune using inter_op_parallelism_threads for best performance.\n",
      "2021-12-09 10:38:01.739088: I tensorflow/compiler/mlir/mlir_graph_optimization_pass.cc:185] None of the MLIR Optimization Passes are enabled (registered 2)\n"
     ]
    },
    {
     "name": "stdout",
     "output_type": "stream",
     "text": [
      "Epoch 1/250\n",
      "12/18 [===================>..........] - ETA: 0s - loss: 2.6188"
     ]
    },
    {
     "name": "stderr",
     "output_type": "stream",
     "text": [
      "2021-12-09 10:38:03.136262: I tensorflow/core/profiler/lib/profiler_session.cc:131] Profiler session initializing.\n",
      "2021-12-09 10:38:03.136292: I tensorflow/core/profiler/lib/profiler_session.cc:146] Profiler session started.\n",
      "2021-12-09 10:38:03.142349: I tensorflow/core/profiler/lib/profiler_session.cc:66] Profiler session collecting data.\n",
      "2021-12-09 10:38:03.144487: I tensorflow/core/profiler/lib/profiler_session.cc:164] Profiler session tear down.\n",
      "2021-12-09 10:38:03.146990: I tensorflow/core/profiler/rpc/client/save_profile.cc:136] Creating directory: logs/train/plugins/profile/2021_12_09_10_38_03\n",
      "\n",
      "2021-12-09 10:38:03.148362: I tensorflow/core/profiler/rpc/client/save_profile.cc:142] Dumped gzipped tool data for trace.json.gz to logs/train/plugins/profile/2021_12_09_10_38_03/T14s.trace.json.gz\n",
      "2021-12-09 10:38:03.154886: I tensorflow/core/profiler/rpc/client/save_profile.cc:136] Creating directory: logs/train/plugins/profile/2021_12_09_10_38_03\n",
      "\n",
      "2021-12-09 10:38:03.161389: I tensorflow/core/profiler/rpc/client/save_profile.cc:142] Dumped gzipped tool data for memory_profile.json.gz to logs/train/plugins/profile/2021_12_09_10_38_03/T14s.memory_profile.json.gz\n",
      "2021-12-09 10:38:03.162320: I tensorflow/core/profiler/rpc/client/capture_profile.cc:251] Creating directory: logs/train/plugins/profile/2021_12_09_10_38_03\n",
      "Dumped tool data for xplane.pb to logs/train/plugins/profile/2021_12_09_10_38_03/T14s.xplane.pb\n",
      "Dumped tool data for overview_page.pb to logs/train/plugins/profile/2021_12_09_10_38_03/T14s.overview_page.pb\n",
      "Dumped tool data for input_pipeline.pb to logs/train/plugins/profile/2021_12_09_10_38_03/T14s.input_pipeline.pb\n",
      "Dumped tool data for tensorflow_stats.pb to logs/train/plugins/profile/2021_12_09_10_38_03/T14s.tensorflow_stats.pb\n",
      "Dumped tool data for kernel_stats.pb to logs/train/plugins/profile/2021_12_09_10_38_03/T14s.kernel_stats.pb\n",
      "\n"
     ]
    },
    {
     "name": "stdout",
     "output_type": "stream",
     "text": [
      "18/18 [==============================] - 2s 50ms/step - loss: 2.5568 - val_loss: 2.3346\n",
      "Epoch 2/250\n",
      "18/18 [==============================] - 0s 12ms/step - loss: 2.1878 - val_loss: 2.0180\n",
      "Epoch 3/250\n",
      "18/18 [==============================] - 0s 10ms/step - loss: 1.8925 - val_loss: 1.7492\n",
      "Epoch 4/250\n",
      "18/18 [==============================] - 0s 9ms/step - loss: 1.6374 - val_loss: 1.5103\n",
      "Epoch 5/250\n",
      "18/18 [==============================] - 0s 10ms/step - loss: 1.4059 - val_loss: 1.3001\n",
      "Epoch 6/250\n",
      "18/18 [==============================] - 0s 10ms/step - loss: 1.2127 - val_loss: 1.1433\n",
      "Epoch 7/250\n",
      "18/18 [==============================] - 0s 8ms/step - loss: 1.0620 - val_loss: 1.0248\n",
      "Epoch 8/250\n",
      "18/18 [==============================] - 0s 9ms/step - loss: 0.9481 - val_loss: 0.9328\n",
      "Epoch 9/250\n",
      "18/18 [==============================] - 0s 10ms/step - loss: 0.8595 - val_loss: 0.8584\n",
      "Epoch 10/250\n",
      "18/18 [==============================] - 0s 12ms/step - loss: 0.7928 - val_loss: 0.8015\n",
      "Epoch 11/250\n",
      "18/18 [==============================] - 0s 15ms/step - loss: 0.7298 - val_loss: 0.7512\n",
      "Epoch 12/250\n",
      "18/18 [==============================] - 0s 9ms/step - loss: 0.6763 - val_loss: 0.7138\n",
      "Epoch 13/250\n",
      "18/18 [==============================] - 0s 7ms/step - loss: 0.6447 - val_loss: 0.6850\n",
      "Epoch 14/250\n",
      "18/18 [==============================] - 0s 9ms/step - loss: 0.6098 - val_loss: 0.6607\n",
      "Epoch 15/250\n",
      "18/18 [==============================] - 0s 8ms/step - loss: 0.5826 - val_loss: 0.6409\n",
      "Epoch 16/250\n",
      "18/18 [==============================] - 0s 11ms/step - loss: 0.5610 - val_loss: 0.6258\n",
      "Epoch 17/250\n",
      "18/18 [==============================] - 0s 11ms/step - loss: 0.5519 - val_loss: 0.6129\n",
      "Epoch 18/250\n",
      "18/18 [==============================] - 0s 8ms/step - loss: 0.5314 - val_loss: 0.6078\n",
      "Epoch 19/250\n",
      "18/18 [==============================] - 0s 9ms/step - loss: 0.5168 - val_loss: 0.6037\n",
      "Epoch 20/250\n",
      "18/18 [==============================] - 0s 18ms/step - loss: 0.5079 - val_loss: 0.5900\n",
      "Epoch 21/250\n",
      "18/18 [==============================] - 0s 16ms/step - loss: 0.4981 - val_loss: 0.5842\n",
      "Epoch 22/250\n",
      "18/18 [==============================] - 0s 10ms/step - loss: 0.4826 - val_loss: 0.5804\n",
      "Epoch 23/250\n",
      "18/18 [==============================] - 0s 10ms/step - loss: 0.4796 - val_loss: 0.5762\n",
      "Epoch 24/250\n",
      "18/18 [==============================] - 0s 15ms/step - loss: 0.4677 - val_loss: 0.5721\n",
      "Epoch 25/250\n",
      "18/18 [==============================] - 0s 11ms/step - loss: 0.4582 - val_loss: 0.5720\n",
      "Epoch 26/250\n",
      "18/18 [==============================] - 0s 15ms/step - loss: 0.4592 - val_loss: 0.5687\n",
      "Epoch 27/250\n",
      "18/18 [==============================] - 0s 13ms/step - loss: 0.4537 - val_loss: 0.5617\n",
      "Epoch 28/250\n",
      "18/18 [==============================] - 0s 9ms/step - loss: 0.4424 - val_loss: 0.5694\n"
     ]
    }
   ],
   "source": [
    "import tensorflow as tf\n",
    "from tensorflow import keras\n",
    "from tensorflow.keras.callbacks import EarlyStopping\n",
    "\n",
    "from tensorflow.keras import regularizers\n",
    "from tensorflow.keras.callbacks import TensorBoard\n",
    "\n",
    "# Define Tensorboard as a Keras callback\n",
    "tensorboard = TensorBoard(\n",
    "  histogram_freq=1,\n",
    "  write_images=True\n",
    ")\n",
    "early_stopping = EarlyStopping(patience=1)\n",
    "\n",
    "model = keras.models.Sequential([\n",
    "    keras.layers.Dense(50,  activation=\"relu\", kernel_regularizer=regularizers.l2(0.01),\n",
    "            activity_regularizer=regularizers.l1(0.01)),\n",
    "    keras.layers.Dropout(rate=0.1),\n",
    "    keras.layers.Dense(50, activation=\"relu\", kernel_regularizer=regularizers.l2(0.01),\n",
    "            activity_regularizer=regularizers.l1(0.01)),\n",
    "    keras.layers.Dense(50, activation=\"relu\", kernel_regularizer=regularizers.l2(0.01),\n",
    "            activity_regularizer=regularizers.l1(0.01)),\n",
    "    keras.layers.Dense(50, activation=\"relu\", kernel_regularizer=regularizers.l2(0.01),\n",
    "            activity_regularizer=regularizers.l1(0.01)),\n",
    "    keras.layers.Dense(1, activation='sigmoid')\n",
    "])\n",
    "model.compile(loss='binary_crossentropy', optimizer=\"adam\")\n",
    "\n",
    "n_epochs = 250\n",
    "\n",
    "history = model.fit(X_train_prepared, y_train, epochs=n_epochs, validation_split=0.25, \n",
    "                    callbacks=[early_stopping, tensorboard])"
   ]
  },
  {
   "cell_type": "code",
   "execution_count": 19,
   "id": "f3d28b49",
   "metadata": {},
   "outputs": [
    {
     "name": "stdout",
     "output_type": "stream",
     "text": [
      "precision: 0.8448275862068966\n",
      "recall: 0.9158878504672897\n",
      "accuracy: 0.8532608695652174\n",
      "f1_score: 0.794392523364486\n"
     ]
    }
   ],
   "source": [
    "tf_predicted = np.round(model.predict(X_test_prepared)).astype(np.int64)\n",
    "\n",
    "precision = precision_score(y_pred = tf_predicted, y_true = y_test)\n",
    "accuracy = accuracy_score(y_pred = tf_predicted, y_true = y_test)\n",
    "recall = recall_score(y_pred = tf_predicted, y_true = y_test)\n",
    "\n",
    "print('precision: {}'.format(precision))\n",
    "print('recall: {}'.format(recall))\n",
    "print('accuracy: {}'.format(accuracy))\n",
    "print('f1_score: {}'.format(f1score))"
   ]
  },
  {
   "cell_type": "code",
   "execution_count": 20,
   "id": "28c2676c",
   "metadata": {},
   "outputs": [
    {
     "data": {
      "text/html": [
       "\n",
       "      <iframe id=\"tensorboard-frame-e3610d0d9e1b218c\" width=\"100%\" height=\"800\" frameborder=\"0\">\n",
       "      </iframe>\n",
       "      <script>\n",
       "        (function() {\n",
       "          const frame = document.getElementById(\"tensorboard-frame-e3610d0d9e1b218c\");\n",
       "          const url = new URL(\"/\", window.location);\n",
       "          const port = 6007;\n",
       "          if (port) {\n",
       "            url.port = port;\n",
       "          }\n",
       "          frame.src = url;\n",
       "        })();\n",
       "      </script>\n",
       "    "
      ],
      "text/plain": [
       "<IPython.core.display.HTML object>"
      ]
     },
     "metadata": {},
     "output_type": "display_data"
    }
   ],
   "source": [
    "%load_ext tensorboard\n",
    "%tensorboard --logdir logs/"
   ]
  },
  {
   "cell_type": "markdown",
   "id": "bafb140e",
   "metadata": {},
   "source": [
    "## XG Boost"
   ]
  },
  {
   "cell_type": "code",
   "execution_count": 21,
   "id": "0e989067",
   "metadata": {},
   "outputs": [
    {
     "name": "stderr",
     "output_type": "stream",
     "text": [
      "/home/michael/.local/lib/python3.8/site-packages/xgboost/sklearn.py:1224: UserWarning: The use of label encoder in XGBClassifier is deprecated and will be removed in a future release. To remove this warning, do the following: 1) Pass option use_label_encoder=False when constructing XGBClassifier object; and 2) Encode your labels (y) as integers starting with 0, i.e. 0, 1, 2, ..., [num_class - 1].\n",
      "  warnings.warn(label_encoder_deprecation_msg, UserWarning)\n"
     ]
    },
    {
     "name": "stdout",
     "output_type": "stream",
     "text": [
      "[10:38:27] WARNING: ../src/learner.cc:1115: Starting in XGBoost 1.3.0, the default evaluation metric used with the objective 'binary:logistic' was changed from 'error' to 'logloss'. Explicitly set eval_metric if you'd like to restore the old behavior.\n"
     ]
    },
    {
     "data": {
      "text/plain": [
       "XGBClassifier(base_score=0.5, booster='gbtree', colsample_bylevel=1,\n",
       "              colsample_bynode=1, colsample_bytree=1, enable_categorical=False,\n",
       "              eta=0.3, gamma=0.0, gpu_id=-1, importance_type=None,\n",
       "              interaction_constraints='', learning_rate=0.300000012,\n",
       "              max_delta_step=0, max_depth=20, min_child_weight=1, missing=nan,\n",
       "              monotone_constraints='()', n_estimators=100, n_jobs=16,\n",
       "              num_parallel_tree=1, predictor='auto', random_state=0,\n",
       "              reg_alpha=0, reg_lambda=1, scale_pos_weight=1, subsample=1,\n",
       "              tree_method='exact', validate_parameters=1, verbosity=None)"
      ]
     },
     "execution_count": 21,
     "metadata": {},
     "output_type": "execute_result"
    }
   ],
   "source": [
    "from sklearn.model_selection import GridSearchCV\n",
    "import xgboost as xgb\n",
    "\n",
    "xg_clf = xgb.XGBClassifier(eta=0.3, max_depth=20, gamma=0.0)\n",
    "xg_clf.fit(X_train_prepared, y_train)"
   ]
  },
  {
   "cell_type": "code",
   "execution_count": 22,
   "id": "d9985a4b",
   "metadata": {},
   "outputs": [
    {
     "name": "stdout",
     "output_type": "stream",
     "text": [
      "0.8586956521739131\n",
      "0.8584070796460177\n",
      "0.9065420560747663\n",
      "0.8818181818181818\n"
     ]
    }
   ],
   "source": [
    "xgb_predicted = xg_clf.predict(X_test_prepared)\n",
    "accuracy = accuracy_score(y_pred = xgb_predicted, y_true = y_test)\n",
    "recall = recall_score(y_pred = xgb_predicted, y_true = y_test)\n",
    "\n",
    "precision = precision_score(y_pred = xgb_predicted, y_true = y_test)\n",
    "f1=f1_score(y_pred = xgb_predicted, y_true = y_test)\n",
    "\n",
    "print(accuracy)\n",
    "print(precision)\n",
    "print(recall)\n",
    "print(f1)"
   ]
  },
  {
   "cell_type": "markdown",
   "id": "a164fa5c",
   "metadata": {},
   "source": [
    "### Support Vector Machine"
   ]
  },
  {
   "cell_type": "code",
   "execution_count": 23,
   "id": "fd9c50bd",
   "metadata": {},
   "outputs": [
    {
     "data": {
      "text/plain": [
       "SVC()"
      ]
     },
     "execution_count": 23,
     "metadata": {},
     "output_type": "execute_result"
    }
   ],
   "source": [
    "from sklearn.svm import SVC\n",
    "svm = SVC(gamma='scale')\n",
    "svm.fit(X_train_prepared, y_train)"
   ]
  },
  {
   "cell_type": "code",
   "execution_count": 24,
   "id": "8d5f171b",
   "metadata": {},
   "outputs": [
    {
     "name": "stdout",
     "output_type": "stream",
     "text": [
      "0.8478260869565217\n",
      "0.8495575221238938\n",
      "0.897196261682243\n",
      "0.8727272727272727\n"
     ]
    }
   ],
   "source": [
    "svm_predicted = svm.predict(X_test_prepared)\n",
    "accuracy = accuracy_score(y_pred = svm_predicted, y_true = y_test)\n",
    "precision = precision_score(y_pred = svm_predicted, y_true = y_test)\n",
    "recall = recall_score(y_pred = svm_predicted, y_true = y_test)\n",
    "f1=f1_score(y_pred = svm_predicted, y_true = y_test)\n",
    "\n",
    "print(accuracy)\n",
    "print(precision)\n",
    "print(recall)\n",
    "print(f1)"
   ]
  },
  {
   "cell_type": "markdown",
   "id": "b7f10414",
   "metadata": {},
   "source": [
    "## Evaluate Neural Network"
   ]
  },
  {
   "cell_type": "code",
   "execution_count": 25,
   "id": "53255d9e",
   "metadata": {},
   "outputs": [
    {
     "name": "stdout",
     "output_type": "stream",
     "text": [
      "Saving figure confusion_matrix_tf\n"
     ]
    },
    {
     "data": {
      "image/png": "[encoded data removed]",
      "text/plain": [
       "<Figure size 432x288 with 2 Axes>"
      ]
     },
     "metadata": {
      "needs_background": "light"
     },
     "output_type": "display_data"
    }
   ],
   "source": [
    "from sklearn.metrics import confusion_matrix, ConfusionMatrixDisplay\n",
    "\n",
    "\n",
    "#plt.figure(figsize=(15,8))\n",
    "tf_confusion_matrix =  confusion_matrix(y_test, tf_predicted)\n",
    "ax = sns.heatmap(tf_confusion_matrix, annot=True)\n",
    "ax.set_xticklabels(('Positiv', 'Negativ'))\n",
    "ax.set_yticklabels(('Positiv', 'Negativ'))\n",
    "plt.xlabel('Wahre Klasse')\n",
    "plt.ylabel('Vorgergesagte Klasse')\n",
    "ax.texts[0].set_text('TP: ' + ax.texts[0].get_text())\n",
    "ax.texts[1].set_text('FP: ' + ax.texts[1].get_text())\n",
    "ax.texts[2].set_text('FN: ' + ax.texts[2].get_text())\n",
    "ax.texts[3].set_text('TN: ' + ax.texts[3].get_text())\n",
    "save_fig(\"confusion_matrix_tf\")"
   ]
  },
  {
   "cell_type": "code",
   "execution_count": 26,
   "id": "2ab05f65",
   "metadata": {},
   "outputs": [
    {
     "name": "stdout",
     "output_type": "stream",
     "text": [
      "Saving figure confusion_matrix_tf_no_vals\n"
     ]
    },
    {
     "data": {
      "image/png": "[encoded data removed]",
      "text/plain": [
       "<Figure size 432x288 with 2 Axes>"
      ]
     },
     "metadata": {
      "needs_background": "light"
     },
     "output_type": "display_data"
    }
   ],
   "source": [
    "#plt.figure(figsize=(15,8))\n",
    "tf_confusion_matrix2 =  confusion_matrix(y_test, tf_predicted)\n",
    "ax = sns.heatmap(tf_confusion_matrix2, annot=True)\n",
    "ax.set_xticklabels(('Positiv', 'Negativ'))\n",
    "ax.set_yticklabels(('Positiv', 'Negativ'))\n",
    "plt.xlabel('Wahre Klasse')\n",
    "plt.ylabel('Vorgergesagte Klasse')\n",
    "ax.texts[0].set_text('TP ' )\n",
    "ax.texts[1].set_text('FP ')\n",
    "ax.texts[2].set_text('FN ' )\n",
    "ax.texts[3].set_text('TN ' )\n",
    "save_fig(\"confusion_matrix_tf_no_vals\")"
   ]
  }
 ],
 "metadata": {
  "kernelspec": {
   "display_name": "Python 3.8 (ipykernel)",
   "language": "python",
   "name": "python3.8"
  },
  "language_info": {
   "codemirror_mode": {
    "name": "ipython",
    "version": 3
   },
   "file_extension": ".py",
   "mimetype": "text/x-python",
   "name": "python",
   "nbconvert_exporter": "python",
   "pygments_lexer": "ipython3",
   "version": "3.8.12"
  }
 },
 "nbformat": 4,
 "nbformat_minor": 5
}
