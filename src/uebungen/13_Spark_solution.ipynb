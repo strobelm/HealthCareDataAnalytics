{
 "cells": [
  {
   "cell_type": "markdown",
   "id": "11dc8da7",
   "metadata": {},
   "source": [
    "# Übungsblatt 13: Spark\n",
    "\n",
    "1. Lesen Sie den QuickStart Guide auf https://spark.apache.org/docs/3.1.1/api/python/getting_started/quickstart.html\n",
    "2. Schauen Sie sich eine Datei in fhir.tar.gz an\n",
    "3. Informieren Sie sich über Codes in FHIR auf https://build.fhir.org/terminologies.html\n",
    "4. Laden Sie das fhir.tar.gz in Google Colab und extrahieren sie es\n",
    "5. Benutzen Sie pyspark um die Daten zu analysieren:\n",
    "    - Filtern sie das Coding System nach \"http://hl7.org/fhir/sid/srt\" \n",
    "    - Gruppieren Sie nach dem \"Code\"\n",
    "    - Zählen Sie die Elemente der Gruppe\n",
    "    - Sortieren Sie die Gruppen aufsteigend\n",
    "    - Zeigen sie die 5 größten Gruppen"
   ]
  },
  {
   "cell_type": "code",
   "execution_count": 1,
   "id": "fe97a3c2",
   "metadata": {},
   "outputs": [
    {
     "name": "stdout",
     "output_type": "stream",
     "text": [
      "Defaulting to user installation because normal site-packages is not writeable\n",
      "Requirement already satisfied: pyspark in /home/michael/.local/lib/python3.10/site-packages (3.3.0)\n",
      "Requirement already satisfied: py4j==0.10.9.5 in /home/michael/.local/lib/python3.10/site-packages (from pyspark) (0.10.9.5)\n"
     ]
    }
   ],
   "source": [
    "!pip install pyspark"
   ]
  },
  {
   "cell_type": "code",
   "execution_count": 2,
   "id": "8afc41be",
   "metadata": {},
   "outputs": [
    {
     "name": "stderr",
     "output_type": "stream",
     "text": [
      "Setting default log level to \"WARN\".\n",
      "To adjust logging level use sc.setLogLevel(newLevel). For SparkR, use setLogLevel(newLevel).\n"
     ]
    },
    {
     "name": "stdout",
     "output_type": "stream",
     "text": [
      "22/07/03 20:49:58 WARN NativeCodeLoader: Unable to load native-hadoop library for your platform... using builtin-java classes where applicable\n"
     ]
    }
   ],
   "source": [
    "from pyspark.sql import SparkSession\n",
    "from pyspark.sql.functions import desc\n",
    "\n",
    "spark = SparkSession.builder.getOrCreate()"
   ]
  },
  {
   "cell_type": "code",
   "execution_count": 3,
   "id": "e6e16567",
   "metadata": {},
   "outputs": [
    {
     "name": "stderr",
     "output_type": "stream",
     "text": [
      "                                                                                \r"
     ]
    },
    {
     "name": "stdout",
     "output_type": "stream",
     "text": [
      "root\n",
      " |-- code: string (nullable = true)\n",
      " |-- display: string (nullable = true)\n",
      " |-- extension: array (nullable = true)\n",
      " |    |-- element: struct (containsNull = true)\n",
      " |    |    |-- extension: array (nullable = true)\n",
      " |    |    |    |-- element: struct (containsNull = true)\n",
      " |    |    |    |    |-- url: string (nullable = true)\n",
      " |    |    |    |    |-- valueString: string (nullable = true)\n",
      " |    |    |-- url: string (nullable = true)\n",
      " |    |    |-- valueDecimal: long (nullable = true)\n",
      " |    |    |-- valueInteger: long (nullable = true)\n",
      " |-- system: string (nullable = true)\n",
      "\n"
     ]
    }
   ],
   "source": [
    "df = spark.read.json(\"data/data/test_*.json\")\n",
    "df.printSchema()"
   ]
  },
  {
   "cell_type": "code",
   "execution_count": 4,
   "id": "3c7e0141",
   "metadata": {},
   "outputs": [
    {
     "name": "stderr",
     "output_type": "stream",
     "text": [
      "                                                                                \r"
     ]
    },
    {
     "data": {
      "text/plain": [
       "[Row(code='R-101BB', count=72000),\n",
       " Row(code='J-00187', count=72000),\n",
       " Row(code='R-4089B', count=72000),\n",
       " Row(code='F-00E1F', count=36000),\n",
       " Row(code='F-0517E', count=36000)]"
      ]
     },
     "execution_count": 4,
     "metadata": {},
     "output_type": "execute_result"
    }
   ],
   "source": [
    "erg = (\n",
    "    df.filter(df.system == \"http://hl7.org/fhir/sid/srt\")\n",
    "    .groupBy(\"code\")\n",
    "    .count()\n",
    "    .sort(desc(\"count\"))\n",
    "    .take(5)\n",
    ")\n",
    "\n",
    "erg"
   ]
  },
  {
   "cell_type": "code",
   "execution_count": null,
   "id": "d2e8d9c4",
   "metadata": {},
   "outputs": [],
   "source": []
  }
 ],
 "metadata": {
  "kernelspec": {
   "display_name": "Python 3.10 (ipykernel)",
   "language": "python",
   "name": "python3.10"
  },
  "language_info": {
   "codemirror_mode": {
    "name": "ipython",
    "version": 3
   },
   "file_extension": ".py",
   "mimetype": "text/x-python",
   "name": "python",
   "nbconvert_exporter": "python",
   "pygments_lexer": "ipython3",
   "version": "3.10.5"
  }
 },
 "nbformat": 4,
 "nbformat_minor": 5
}
