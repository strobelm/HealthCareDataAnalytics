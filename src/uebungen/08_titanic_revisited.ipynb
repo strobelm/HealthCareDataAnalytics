{
 "cells": [
  {
   "cell_type": "markdown",
   "id": "e695d780",
   "metadata": {},
   "source": [
    "# Übung 4: mehr binäre Klassifikation und Challenge"
   ]
  },
  {
   "cell_type": "markdown",
   "id": "3dfc8a82",
   "metadata": {},
   "source": [
    "## Aufgabe 1: Titanic\n",
    "\n",
    "![](images/titanic.jpg)\n",
    "\n",
    "#### Wir möchten anhand von Daten vorhersagen ob eine Person den Untergang der Titanic überlebt hat. Dafür nehmen wir an einem Challenge auf der Plattform \"Kaggle\" teil.\n",
    "\n",
    "1. Registrieren Sie sich auf https://www.kaggle.com/c/titanic und lesen Sie die Einführung auf https://www.kaggle.com/competitions/titanic/overview\n",
    "2. Machen Sie sich mit den Daten auf https://www.kaggle.com/competitions/titanic/data vertraut\n",
    "3. Laden Sie die Dateien \n",
    "    - Trainingsdaten(train.csv)\n",
    "    - Testdaten (test.csv)\n",
    "\n",
    "4. Selektieren Sie sinnvolle Features und teilen Sie die Features in die Kategorien: Numerisch, Ordinal und Nominal auf\n",
    "3. Bauen Sie jeweils eine Data Pipeline zur Verarbeitung der jeweiligen Features.\n",
    "4. Benutzen Sie die scitkit-learn Klasse `ColumnTransformer` um die Pipelines zu einer Gesamtpipeline wieder zusammen zu führen.\n",
    "6. Wenden Sie die Gesamtpipeline auf die Trainingsdaten an \n",
    "7. Trainieren Sie mit den Trainingsdaten auf mehreren Klassifiziereren (z.B. `SGDClassifier, DecisionTreeClassifier, SVMClassifier, RandomForestClassifier`) \n",
    "8. Evalusieren Sie mit verschiedenen Metriken welcher der beste Klassifizierer ist\n",
    "9. Schreiben Sie Ihre Ergebnisse in eine CSV Datei. Orientieren Sie sich an dem von Kaggle erwarteten Format `gender_submission.csv`.\n",
    "10. Senden Sie die Daten ab und sehen Sie wie gut Sie im vergleich zu den anderen Teilnehmenden abschneiden.\n"
   ]
  }
 ],
 "metadata": {
  "kernelspec": {
   "display_name": "Python 3.8 (ipykernel)",
   "language": "python",
   "name": "python3.8"
  },
  "language_info": {
   "codemirror_mode": {
    "name": "ipython",
    "version": 3
   },
   "file_extension": ".py",
   "mimetype": "text/x-python",
   "name": "python",
   "nbconvert_exporter": "python",
   "pygments_lexer": "ipython3",
   "version": "3.8.13"
  }
 },
 "nbformat": 4,
 "nbformat_minor": 5
}
