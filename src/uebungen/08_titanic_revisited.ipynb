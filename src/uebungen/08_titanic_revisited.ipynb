{
 "cells": [
  {
   "cell_type": "markdown",
   "id": "e695d780",
   "metadata": {},
   "source": [
    "# Übung 8: Feature Engineering und Parameter Tuning"
   ]
  },
  {
   "cell_type": "markdown",
   "id": "3dfc8a82",
   "metadata": {},
   "source": [
    "## Aufgabe: Titanic reloaded\n",
    "\n",
    "![](images/titanic.jpg)\n",
    "\n",
    "Wie wir in Übung 4 gelernt haben gibt es noch einiges was wir tun können um die Perfromance im Titanic Dataset zu erhöhen. Unter anderem war FeatureEngineering und Parameter Tuning dabei. Dies lernen wir heute.\n",
    "\n",
    "1. Schreiben Sie eine Funktion die die Passagiere der Titanic in die Altersklassen 0-16, 16-32, 32-48 und über 64 einteilt \n",
    "2. Erstellen Sie eine Funktion die die Anzahl der Familienmitglieder zählt und die Reisekosten pro Person\n",
    "3. Erstellen Sie eine Funktion die die die Titel aus den Namen extrahiert \n",
    "4. Benutzen Sie die Pipeline um die Funktionen aus Aufgabe 1-3 zu der aus Übung 4 bekannten Pipeline hinzuzufügen\n",
    "5. Tunen Sie die Parameter eine DecisionTrees und vergleichen Sie die Ergebnisse mit der aus Übung 4"
   ]
  },
  {
   "cell_type": "code",
   "execution_count": null,
   "id": "3fb7e859",
   "metadata": {},
   "outputs": [],
   "source": [
    "import numpy as np\n",
    "import pandas as pd\n",
    "from sklearn import set_config\n",
    "from sklearn.compose import ColumnTransformer\n",
    "from sklearn.ensemble import RandomForestClassifier\n",
    "from sklearn.impute import SimpleImputer\n",
    "from sklearn.metrics import (\n",
    "    accuracy_score,\n",
    "    average_precision_score,\n",
    "    f1_score,\n",
    "    precision_score,\n",
    "    recall_score,\n",
    "    roc_auc_score,\n",
    ")\n",
    "from sklearn.model_selection import train_test_split\n",
    "from sklearn.pipeline import Pipeline\n",
    "from sklearn.preprocessing import (\n",
    "    FunctionTransformer,\n",
    "    OneHotEncoder,\n",
    "    OrdinalEncoder,\n",
    "    StandardScaler,\n",
    ")"
   ]
  },
  {
   "cell_type": "code",
   "execution_count": null,
   "id": "91675c71",
   "metadata": {},
   "outputs": [],
   "source": [
    "titanic_train = pd.read_csv(\"data/titanic/train.csv\")\n",
    "titanic_train.head()"
   ]
  },
  {
   "cell_type": "code",
   "execution_count": null,
   "id": "6d4800f3",
   "metadata": {},
   "outputs": [],
   "source": [
    "def transform_age(df):\n",
    "    X_temp = df.copy()\n",
    "    # Implementerung hier\n",
    "\n",
    "    return X_temp\n",
    "\n",
    "\n",
    "age_transformer = FunctionTransformer(transform_age)"
   ]
  },
  {
   "cell_type": "code",
   "execution_count": 1,
   "id": "cdaba2e7",
   "metadata": {},
   "outputs": [
    {
     "ename": "NameError",
     "evalue": "name 'FunctionTransformer' is not defined",
     "output_type": "error",
     "traceback": [
      "\u001b[0;31m---------------------------------------------------------------------------\u001b[0m",
      "\u001b[0;31mNameError\u001b[0m                                 Traceback (most recent call last)",
      "Input \u001b[0;32mIn [1]\u001b[0m, in \u001b[0;36m<cell line: 8>\u001b[0;34m()\u001b[0m\n\u001b[1;32m      3\u001b[0m     \u001b[38;5;66;03m# Implementerung hier, erstellt Feature \"Fcount\", die die Familienmitglieder zählt und FarePerPerson, also das Entgelt geteilt durch die Familienmitglieder\u001b[39;00m\n\u001b[1;32m      5\u001b[0m     \u001b[38;5;28;01mreturn\u001b[39;00m X_temp\n\u001b[0;32m----> 8\u001b[0m family_fare_transformer \u001b[38;5;241m=\u001b[39m \u001b[43mFunctionTransformer\u001b[49m(transform_family_fare)\n",
      "\u001b[0;31mNameError\u001b[0m: name 'FunctionTransformer' is not defined"
     ]
    }
   ],
   "source": [
    "def transform_family_fare(df):\n",
    "    X_temp = df.copy()\n",
    "    # Implementerung hier, erstellt Feature \"Fcount\", die die Familienmitglieder zählt und FarePerPerson, also das Entgelt geteilt durch die Familienmitglieder\n",
    "\n",
    "    return X_temp\n",
    "\n",
    "\n",
    "family_fare_transformer = FunctionTransformer(transform_family_fare)"
   ]
  },
  {
   "cell_type": "code",
   "execution_count": 2,
   "id": "01a78abd",
   "metadata": {},
   "outputs": [
    {
     "ename": "NameError",
     "evalue": "name 'FunctionTransformer' is not defined",
     "output_type": "error",
     "traceback": [
      "\u001b[0;31m---------------------------------------------------------------------------\u001b[0m",
      "\u001b[0;31mNameError\u001b[0m                                 Traceback (most recent call last)",
      "Input \u001b[0;32mIn [2]\u001b[0m, in \u001b[0;36m<cell line: 10>\u001b[0;34m()\u001b[0m\n\u001b[1;32m      4\u001b[0m     \u001b[38;5;66;03m# Implementierung hier, erstellt das Feature Title, welches aus aus den Namen extrahiert werden kann.\u001b[39;00m\n\u001b[1;32m      5\u001b[0m     \u001b[38;5;66;03m# Hinweis: der reguläre Ausdruck \"\\s*([A-Za-z]+)\\.\" kann hilfreich sein\u001b[39;00m\n\u001b[1;32m      7\u001b[0m     \u001b[38;5;28;01mreturn\u001b[39;00m X_temp\n\u001b[0;32m---> 10\u001b[0m name_transformer \u001b[38;5;241m=\u001b[39m \u001b[43mFunctionTransformer\u001b[49m(transform_name)\n\u001b[1;32m     11\u001b[0m name_transformer\u001b[38;5;241m.\u001b[39mtransform(titanic_train)\n",
      "\u001b[0;31mNameError\u001b[0m: name 'FunctionTransformer' is not defined"
     ]
    }
   ],
   "source": [
    "def transform_name(df):\n",
    "    # Sir. / Mrs. etc..\n",
    "    X_temp = df.copy()\n",
    "    # Implementierung hier, erstellt das Feature Title, welches aus aus den Namen extrahiert werden kann.\n",
    "    # Hinweis: der reguläre Ausdruck \"\\s*([A-Za-z]+)\\.\" kann hilfreich sein\n",
    "\n",
    "    return X_temp\n",
    "\n",
    "\n",
    "name_transformer = FunctionTransformer(transform_name)\n",
    "name_transformer.transform(titanic_train)"
   ]
  },
  {
   "cell_type": "code",
   "execution_count": 3,
   "id": "16aa51e1",
   "metadata": {},
   "outputs": [
    {
     "ename": "NameError",
     "evalue": "name 'Pipeline' is not defined",
     "output_type": "error",
     "traceback": [
      "\u001b[0;31m---------------------------------------------------------------------------\u001b[0m",
      "\u001b[0;31mNameError\u001b[0m                                 Traceback (most recent call last)",
      "Input \u001b[0;32mIn [3]\u001b[0m, in \u001b[0;36m<cell line: 2>\u001b[0;34m()\u001b[0m\n\u001b[1;32m      1\u001b[0m \u001b[38;5;66;03m# Hier können Sie sehen was das Feature Engineering gebracht hat \u001b[39;00m\n\u001b[0;32m----> 2\u001b[0m FeatureEngineering \u001b[38;5;241m=\u001b[39m \u001b[43mPipeline\u001b[49m(\n\u001b[1;32m      3\u001b[0m     steps\u001b[38;5;241m=\u001b[39m[\n\u001b[1;32m      4\u001b[0m         \u001b[38;5;66;03m# Details hier\u001b[39;00m\n\u001b[1;32m      5\u001b[0m     ]\n\u001b[1;32m      6\u001b[0m )\n\u001b[1;32m      7\u001b[0m FeatureEngineering\u001b[38;5;241m.\u001b[39mtransform(titanic_train)\n",
      "\u001b[0;31mNameError\u001b[0m: name 'Pipeline' is not defined"
     ]
    }
   ],
   "source": [
    "# Hier können Sie sehen was das Feature Engineering gebracht hat\n",
    "FeatureEngineering = Pipeline(\n",
    "    steps=[\n",
    "        # Details hier\n",
    "    ]\n",
    ")\n",
    "FeatureEngineering.transform(titanic_train)"
   ]
  },
  {
   "cell_type": "code",
   "execution_count": null,
   "id": "1fed8e9e",
   "metadata": {},
   "outputs": [],
   "source": [
    "ordinal_features = [\"Sex\"]\n",
    "nominal_features = [\"Embarked\", \"Title\"]\n",
    "numeric_features = [\"Pclass\", \"Age\", \"Fare\", \"Fcount\", \"FarePerPerson\"]"
   ]
  },
  {
   "cell_type": "code",
   "execution_count": null,
   "id": "d1593eb5",
   "metadata": {},
   "outputs": [],
   "source": [
    "numeric_transformer = Pipeline(\n",
    "    steps=[(\"imputer\", SimpleImputer(strategy=\"mean\")), (\"scaler\", StandardScaler())]\n",
    ")\n",
    "nominal_transformer = Pipeline(\n",
    "    steps=[\n",
    "        (\"imputer\", SimpleImputer(strategy=\"most_frequent\")),\n",
    "        (\"one_hot_encoding\", OneHotEncoder(handle_unknown=\"ignore\")),\n",
    "    ]\n",
    ")\n",
    "ordinal_transfomer = Pipeline(\n",
    "    steps=[\n",
    "        (\"imputer\", SimpleImputer(strategy=\"most_frequent\")),\n",
    "        (\"ordinal_encoding\", OrdinalEncoder()),\n",
    "    ]\n",
    ")\n",
    "\n",
    "column_transformer = ColumnTransformer(\n",
    "    transformers=[\n",
    "        (\"num\", numeric_transformer, numeric_features),\n",
    "        (\"cat_nominal\", nominal_transformer, nominal_features),\n",
    "        (\"cat_ordinal\", ordinal_transfomer, ordinal_features),\n",
    "    ],\n",
    ")\n",
    "\n",
    "# Gesamtpipeline\n",
    "preprocessor = Pipeline(\n",
    "    steps=[\n",
    "        (\"age\", age_transformer),\n",
    "        (\"family_fare\", family_fare_transformer),\n",
    "        (\"title\", name_transformer),\n",
    "        (\"column\", column_transformer),\n",
    "    ]\n",
    ")\n",
    "\n",
    "set_config(display=\"diagram\")\n",
    "preprocessor"
   ]
  },
  {
   "cell_type": "code",
   "execution_count": null,
   "id": "51288467",
   "metadata": {},
   "outputs": [],
   "source": [
    "X = titanic_train.drop(\"Survived\", axis=1)\n",
    "y = titanic_train[[\"Survived\"]]\n",
    "\n",
    "X_train, X_test, y_train, y_test = train_test_split(X, y)"
   ]
  },
  {
   "cell_type": "code",
   "execution_count": null,
   "id": "25421759",
   "metadata": {},
   "outputs": [],
   "source": [
    "X_train_prepared = preprocessor.fit_transform(X_train)\n",
    "y_train_prepared = y_train.to_numpy().ravel()"
   ]
  },
  {
   "cell_type": "code",
   "execution_count": null,
   "id": "bce3d26d",
   "metadata": {},
   "outputs": [],
   "source": [
    "from sklearn.model_selection import RandomizedSearchCV\n",
    "\n",
    "random_grid = {\n",
    "    # Details einfügen\n",
    "}\n",
    "\n",
    "rf_clf = RandomForestClassifier()\n",
    "rand_search = RandomizedSearchCV(\n",
    "    estimator=rf_clf,\n",
    "    param_distributions=random_grid,\n",
    "    n_iter=25,\n",
    "    cv=3,\n",
    "    random_state=42,\n",
    "    n_jobs=-1,\n",
    ")  # Fit the random search model\n",
    "rand_search.fit(X_train_prepared, y_train_prepared)\n",
    "\n",
    "rand_search.best_params_"
   ]
  },
  {
   "cell_type": "markdown",
   "id": "9d3ce340",
   "metadata": {},
   "source": [
    "## Load test data and make predictions"
   ]
  },
  {
   "cell_type": "code",
   "execution_count": null,
   "id": "5bd254a8",
   "metadata": {},
   "outputs": [],
   "source": [
    "X_test_prepared = preprocessor.transform(X_test)\n",
    "clf = RandomForestClassifier(oob_score=True)\n",
    "clf.fit(X_train_prepared, y_train_prepared)\n",
    "print(f\"Out of Bag Score ohne tuning: {clf.oob_score_}\")\n",
    "clf = RandomForestClassifier(**rand_search.best_params_, oob_score=True)\n",
    "clf = clf.fit(X_train_prepared, y_train_prepared)\n",
    "print(f\"Out of Bag Score mit tuning: {clf.oob_score_}\")"
   ]
  },
  {
   "cell_type": "code",
   "execution_count": null,
   "id": "a92c1540",
   "metadata": {},
   "outputs": [],
   "source": [
    "predicted = clf.predict(X_test_prepared)\n",
    "\n",
    "accuracy = accuracy_score(y_pred=predicted, y_true=y_test)\n",
    "precision = precision_score(y_pred=predicted, y_true=y_test)\n",
    "recall = recall_score(y_pred=predicted, y_true=y_test)\n",
    "auc = roc_auc_score(y_true=y_test, y_score=predicted)\n",
    "aps = average_precision_score(y_true=y_test, y_score=predicted)\n",
    "f1 = f1_score(y_true=y_test, y_pred=predicted)\n",
    "\n",
    "print(f\"accuracy: {accuracy}\")\n",
    "print(f\"precision: {precision}\")\n",
    "print(f\"recall: {recall}\")\n",
    "print(f\"F1 Score: {f1}\")\n",
    "print(f\"AUC: {auc}\")\n",
    "print(\"\\n\")"
   ]
  },
  {
   "cell_type": "markdown",
   "id": "575367f4",
   "metadata": {},
   "source": [
    "## Evaluation\n",
    "\n",
    "Vergleichen Sie die Perfromance mit Übung 4.\n",
    "\n",
    "```\n",
    "RandomForest\n",
    "accuracy: 0.7737219730941704\n",
    "precision: 0.7261904761904762\n",
    "recall: 0.7261904761904762\n",
    "F1 Score: 0.7261904761904762\n",
    "AUC: 0.7803614251455979\n",
    "```"
   ]
  },
  {
   "cell_type": "code",
   "execution_count": null,
   "id": "7130e39b",
   "metadata": {},
   "outputs": [],
   "source": []
  }
 ],
 "metadata": {
  "kernelspec": {
   "display_name": "Python 3.8 (ipykernel)",
   "language": "python",
   "name": "python3.8"
  },
  "language_info": {
   "codemirror_mode": {
    "name": "ipython",
    "version": 3
   },
   "file_extension": ".py",
   "mimetype": "text/x-python",
   "name": "python",
   "nbconvert_exporter": "python",
   "pygments_lexer": "ipython3",
   "version": "3.8.13"
  }
 },
 "nbformat": 4,
 "nbformat_minor": 5
}
