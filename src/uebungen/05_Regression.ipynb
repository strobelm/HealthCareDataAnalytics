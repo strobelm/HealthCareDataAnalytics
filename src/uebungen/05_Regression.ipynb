{
 "cells": [
  {
   "cell_type": "markdown",
   "id": "d2878889",
   "metadata": {},
   "source": [
    "# Regression und Training von Modellen"
   ]
  },
  {
   "cell_type": "markdown",
   "id": "25628840",
   "metadata": {},
   "source": [
    "1. Generieren Sie Datepunkte auf einer Geraden und addieren Sie etwas Rauschen auf die Punkte und visualisieren Sie diese\n",
    "2. Implementieren Sie die geschlossene Formel für die lineare Regression und wenden Sie diese auf die von Ihnen generierten Datenpunkte an\n",
    "3. Implementieren Sie den Batch Gradientenabstieg für das Regressionsproblem\n",
    "4. Implementieren Sie den Stoachstischen Gradientenabstieg für das Regressionsproblem\n",
    "5. Implementieren Sie den Mini Batch Gradientenabstieg\n",
    "6. Vergleichen Sie Ihre Implementierung mit den Ergebnissen der scitkit-learn Implementierung"
   ]
  },
  {
   "cell_type": "code",
   "execution_count": null,
   "id": "1d50d8b0",
   "metadata": {},
   "outputs": [],
   "source": []
  }
 ],
 "metadata": {
  "kernelspec": {
   "display_name": "Python 3.8 (ipykernel)",
   "language": "python",
   "name": "python3.8"
  },
  "language_info": {
   "codemirror_mode": {
    "name": "ipython",
    "version": 3
   },
   "file_extension": ".py",
   "mimetype": "text/x-python",
   "name": "python",
   "nbconvert_exporter": "python",
   "pygments_lexer": "ipython3",
   "version": "3.8.13"
  }
 },
 "nbformat": 4,
 "nbformat_minor": 5
}
