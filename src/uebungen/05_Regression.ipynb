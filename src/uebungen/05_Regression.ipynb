{
 "cells": [
  {
   "cell_type": "markdown",
   "id": "d2878889",
   "metadata": {},
   "source": [
    "# Regression und Training von Modellen"
   ]
  },
  {
   "cell_type": "markdown",
   "id": "25628840",
   "metadata": {},
   "source": [
    "### Heute analysieren wir uns Gesundheitsdaten von Rauchern und deren BMI und deren Krankenhauskosten\n",
    "Visualisieren Sie die Daten nach jedem Schritt \n",
    "\n",
    "1. Laden Sie die Daten aus der 'insurance.csv'. Filtern Sie diese nach männlichen Rauchern und extrahieren Sie den BMI als X Wert und die Gesundheitskosten (expenses) als y und sortieren Sie diese nach Datenpunkte nach dem BMI.\n",
    "2. Implementieren Sie die geschlossene Formel für die lineare Regression und wenden Sie diese auf die von Ihnen generierten Datenpunkte an.\n",
    "3. Implementieren Sie den Batch Gradientenabstieg für das Regressionsproblem (Hinweis: vergessen Sie nicht die \"1\" in X hinzuzufügen wie in der Vorlesung besprochen, des weiteren ist das Problem ist instabil, Parameter die funktionieren sind eta = 0.0001 und n_iterations = 500_000)\n",
    "4. Implementieren Sie den stoachstischen Gradientenabstieg für das Regressionsproblem (Hinweis: n_epochs = 2500\n",
    "eta = 0.0001)\n",
    "5. Vergleichen Sie Ihre Implementierung mit den Ergebnissen der scitkit-learn Implementierung"
   ]
  },
  {
   "cell_type": "code",
   "execution_count": null,
   "id": "ac45b549",
   "metadata": {},
   "outputs": [],
   "source": []
  }
 ],
 "metadata": {
  "kernelspec": {
   "display_name": "Python 3.8 (ipykernel)",
   "language": "python",
   "name": "python3.8"
  },
  "language_info": {
   "codemirror_mode": {
    "name": "ipython",
    "version": 3
   },
   "file_extension": ".py",
   "mimetype": "text/x-python",
   "name": "python",
   "nbconvert_exporter": "python",
   "pygments_lexer": "ipython3",
   "version": "3.8.13"
  }
 },
 "nbformat": 4,
 "nbformat_minor": 5
}
