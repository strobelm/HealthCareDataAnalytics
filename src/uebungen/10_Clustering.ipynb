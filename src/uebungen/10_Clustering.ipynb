{
 "cells": [
  {
   "cell_type": "markdown",
   "id": "9fb8703b",
   "metadata": {},
   "source": [
    "# Clustering\n",
    "\n",
    "## Diabetes Clustering \n",
    "\n",
    "Heute schauen wir uns einen Datensatz zu Diabetes an clustern diesen.\n",
    "\n",
    "1. Schauen Sie sich den Datensatz an und lesen Sie unter https://www.kaggle.com/datasets/mathchi/diabetes-data-set nach was die Features bedeuten.\n",
    "2. Schauen Sie sich die bereits gemachten Schritte an vollziehen Sie diese nach (preprocessing, pipelines etc)\n",
    "3. Trainieren Sie einen linearen Klassifikator auf dem Datensatz als Vergleich zum Clustering. Wie hoch ist dessen Accuracy?\n",
    "4. Trainieren Sie auf den Datensatz einen K-Means Algorithmus und visualisieren Sie diesen indem Sie die Ergebnisse mit einem Scatterplot (z.B. mit BMI und Glucose plotten)\n",
    "5. Vergleichen Sie die Performance von K-Means mit dem linearen Klassifikator. "
   ]
  },
  {
   "cell_type": "code",
   "execution_count": null,
   "id": "06731447",
   "metadata": {},
   "outputs": [],
   "source": [
    "import matplotlib.pyplot as plt\n",
    "import pandas as pd\n",
    "import seaborn as sns\n",
    "from sklearn.ensemble import RandomForestClassifier\n",
    "from sklearn.impute import SimpleImputer\n",
    "from sklearn.model_selection import train_test_split\n",
    "from sklearn.pipeline import Pipeline\n",
    "from sklearn.preprocessing import MinMaxScaler"
   ]
  },
  {
   "cell_type": "code",
   "execution_count": null,
   "id": "3be48158",
   "metadata": {},
   "outputs": [],
   "source": [
    "diabetes_data = pd.read_csv(\"data/diabetes_data.csv\")\n",
    "diabetes_data.head()"
   ]
  },
  {
   "cell_type": "code",
   "execution_count": null,
   "id": "53fe63b1",
   "metadata": {},
   "outputs": [],
   "source": [
    "diabetes_data.describe()"
   ]
  },
  {
   "cell_type": "code",
   "execution_count": null,
   "id": "dbdcf07a",
   "metadata": {},
   "outputs": [],
   "source": [
    "%matplotlib inline\n",
    "diabetes_data.hist(bins=50, figsize=(20, 15))\n",
    "plt.show()"
   ]
  },
  {
   "cell_type": "code",
   "execution_count": null,
   "id": "13d25cae",
   "metadata": {},
   "outputs": [],
   "source": [
    "sns.pairplot(data=diabetes_data, hue=\"Outcome\")"
   ]
  },
  {
   "cell_type": "code",
   "execution_count": null,
   "id": "d76b1d88",
   "metadata": {},
   "outputs": [],
   "source": [
    "diabetes_data.isnull().sum()  # Es scheinen keine Werte zu fehlen, aber offensichtlich wurden diese nur auf 0 gesetzt."
   ]
  },
  {
   "cell_type": "code",
   "execution_count": null,
   "id": "768f4985",
   "metadata": {
    "scrolled": true
   },
   "outputs": [],
   "source": [
    "# Imbalanced Dataset!\n",
    "sns.countplot(x=\"Outcome\", data=diabetes_data)"
   ]
  },
  {
   "cell_type": "code",
   "execution_count": null,
   "id": "a4be02ae",
   "metadata": {},
   "outputs": [],
   "source": [
    "X = diabetes_data.drop(columns=\"Outcome\")\n",
    "y = diabetes_data[\"Outcome\"]"
   ]
  },
  {
   "cell_type": "code",
   "execution_count": null,
   "id": "a1936dd0",
   "metadata": {},
   "outputs": [],
   "source": [
    "diabetes_pipeline = Pipeline(\n",
    "    steps=[\n",
    "        (\"imputer\", SimpleImputer(strategy=\"mean\", missing_values=0)),\n",
    "        (\"scaler\", MinMaxScaler()),\n",
    "    ]\n",
    ")\n",
    "\n",
    "X_train, X_test, y_train, y_test = train_test_split(X, y)\n",
    "X_train_preprocessed = diabetes_pipeline.fit_transform(X_train)\n",
    "X_test_preprocessed = diabetes_pipeline.transform(X_test)"
   ]
  },
  {
   "cell_type": "code",
   "execution_count": null,
   "id": "47b839c9",
   "metadata": {},
   "outputs": [],
   "source": [
    "# Zum Vergleich: Random Forest\n",
    "clf = RandomForestClassifier(random_state=0)\n",
    "# TODO\n",
    "clf.score(X_test_preprocessed, y_test)"
   ]
  },
  {
   "cell_type": "code",
   "execution_count": null,
   "id": "054988bd",
   "metadata": {},
   "outputs": [],
   "source": [
    "# TODO Clustering"
   ]
  },
  {
   "cell_type": "code",
   "execution_count": null,
   "id": "df1e12dc",
   "metadata": {},
   "outputs": [],
   "source": [
    "# Scatter Plot"
   ]
  }
 ],
 "metadata": {
  "kernelspec": {
   "display_name": "Python 3.8 (ipykernel)",
   "language": "python",
   "name": "python3.8"
  },
  "language_info": {
   "codemirror_mode": {
    "name": "ipython",
    "version": 3
   },
   "file_extension": ".py",
   "mimetype": "text/x-python",
   "name": "python",
   "nbconvert_exporter": "python",
   "pygments_lexer": "ipython3",
   "version": "3.8.13"
  }
 },
 "nbformat": 4,
 "nbformat_minor": 5
}
