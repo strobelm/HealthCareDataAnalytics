{
 "cells": [
  {
   "cell_type": "markdown",
   "id": "bf97d205",
   "metadata": {},
   "source": [
    "# Neuronale Netze"
   ]
  },
  {
   "cell_type": "markdown",
   "id": "2bd925e6",
   "metadata": {},
   "source": [
    "## Aufgabe 1: Tensorflow Playground\n",
    "\n",
    "Wir möchten uns mit dem Verhalten von neuronalen Netzen vertraut machen\n",
    "\n",
    "1. Gehen Sie auf https://playground.tensorflow.org \n",
    "2. Machen Sie sich mit den Features vertraut\n",
    "3. Was kodieren die Farben Blau und Orange?\n",
    "\n",
    "Blau zeigt positive Werte und Orange negative Werte. Sowohl bei den Gewichten als im Output. \n",
    "\n",
    "4. Wie werden die Punkte klassifiziert?\n",
    "\n",
    "Wie in der Vorlesung gezeigt wird bei binärer Klassifikation die Sigmoid Funktion verwendet und anschließend ein Tresholding (um auf -1 oder 1 zu runden)\n",
    "\n",
    "5. Wie können Sie sehen welche Feature Importance das Modell errechnet hat?\n",
    "\n",
    "Die Größe der Gewichte entspricht der dicke der Linien im Modell, um so größer (im Absolutbetrag) diese sind um so wichtiger erachtet das Modell diese.\n",
    "\n",
    "6. Welche der gezeigten Feature Engineering Methoden kennen Sie bereits?\n",
    "\n",
    "Implementiert haben wir bereits die Polynomiellen Features $X_1^2$, $X_2^2$, $X_1 X_2$. $sin(X_1), sin(X_2)$ haben wir nicht explizit gesehen. Dieses ist hilfreich, wenn die Daten spiralförmig angeordnet sind.\n",
    "\n",
    "7. Versuchen Sie verschiedene Parameter auf verschiedenen Datensätzen und beobachten Sie die Modelle um ein Gefühl für das Verhalten zu bekommen.\n",
    "\n",
    "    - Generell gilt: mehr Layer und Neuronen sorgen für flexiblere Modelle, aber das Training dauert lang. Regularisierung ist bei vielen Layern und Neuronen wichtig. Die Learning Rate kann zu hoch eingestellt sein, dass konvergiert das Modell nicht. Wenn die LR zu gering ist konvergiert das Modell nur sehr langsam. \n",
    "\n",
    "    - Man kann den Variance / Bias Tradeoff für viele Parameter gut sehen. \n",
    "\n",
    "    - Das Training mit ReLU ist schneller als mit z.B. tanh.\n",
    "\n",
    "8. Deep Learning. Wenn Sie die Anzahl der Hidden Layer stark erhöhen spricht man von _Deep Learning_. Probieren Sie aus ob Sie mit Deep Learning und nur den Features $X_1$ und $X_2$ die spiralförmigen Datensätze separieren können.\n",
    "\n",
    "Die vielen Layer sorgen dafür, dass das Modell deutlich flexibler wird und somit auch Sinus und Kosinus approximiert werden kann. Deep Learning ist sehr mächtig, neight aber auch wie die Random Forests zu overfitting. Zudem kommen Schwierigkeiten beim Training der Modelle (vanishing / exploding Gradients, sehr große Modelle die nur langsam Trainieren) und noch vieles mehr. Die meisten Probleme sind heutzutage aber lösbar und haben Mitigationsstrategien."
   ]
  },
  {
   "cell_type": "markdown",
   "id": "fc4a37b6",
   "metadata": {},
   "source": [
    "# Aufgabe 2: MNIST\n",
    "\n",
    "MNIST steht für Modified National Institute of Standards and Technology database und enthält Bilder von Zahlen die von Handschriften stammen. Diese mit neuronalen Netzen zu erkennen gilt als das \"Hello World\" von Bilderkennung mit Machine Learning.\n",
    "\n",
    "1. Laden Sie die Daten und analysieren Sie diese (datentyp, plotting etc)\n",
    "2. Machen Sie einen Test/Traning Split der Daten\n",
    "3. Bauen Sie eine Pipeline mit dem `MLPClassifier`\n",
    "4. Sehen Sie wie gut Sie abschneiden mit verschiedenen Netztopologien und messen Sie diese mit `classification_report`. "
   ]
  },
  {
   "cell_type": "code",
   "execution_count": 1,
   "id": "613b02d7",
   "metadata": {},
   "outputs": [
    {
     "data": {
      "image/png": "[encoded data removed]",
      "text/plain": [
       "<Figure size 1080x432 with 10 Axes>"
      ]
     },
     "metadata": {
      "needs_background": "light"
     },
     "output_type": "display_data"
    }
   ],
   "source": [
    "import matplotlib.pyplot as plt\n",
    "from sklearn import datasets, metrics\n",
    "from sklearn.model_selection import train_test_split\n",
    "from sklearn.neural_network import MLPClassifier\n",
    "from sklearn.pipeline import Pipeline\n",
    "from sklearn.preprocessing import MinMaxScaler\n",
    "\n",
    "mnist = datasets.load_digits()\n",
    "\n",
    "_, axes = plt.subplots(nrows=1, ncols=10, figsize=(15, 6))\n",
    "for ax, image, label in zip(axes, mnist.images, mnist.target):\n",
    "    ax.set_axis_off()\n",
    "    ax.imshow(image, cmap=plt.cm.gray_r, interpolation=\"nearest\")\n",
    "    ax.set_title(\"Training: %i\" % label)"
   ]
  },
  {
   "cell_type": "code",
   "execution_count": 2,
   "id": "7352220c",
   "metadata": {},
   "outputs": [
    {
     "name": "stdout",
     "output_type": "stream",
     "text": [
      "              precision    recall  f1-score   support\n",
      "\n",
      "           0     1.0000    1.0000    1.0000        44\n",
      "           1     1.0000    0.9773    0.9885        44\n",
      "           2     1.0000    1.0000    1.0000        43\n",
      "           3     1.0000    1.0000    1.0000        50\n",
      "           4     1.0000    0.9800    0.9899        50\n",
      "           5     1.0000    0.9388    0.9684        49\n",
      "           6     0.9778    1.0000    0.9888        44\n",
      "           7     0.9787    1.0000    0.9892        46\n",
      "           8     1.0000    1.0000    1.0000        39\n",
      "           9     0.9318    1.0000    0.9647        41\n",
      "\n",
      "    accuracy                         0.9889       450\n",
      "   macro avg     0.9888    0.9896    0.9890       450\n",
      "weighted avg     0.9894    0.9889    0.9889       450\n",
      "\n"
     ]
    }
   ],
   "source": [
    "n = len(mnist.images)\n",
    "X = mnist.images.reshape((n, -1))  # flatten\n",
    "y = mnist.target\n",
    "\n",
    "X_train, X_test, y_train, y_test = train_test_split(X, y)\n",
    "\n",
    "clf = MLPClassifier(random_state=0, max_iter=500)\n",
    "pipe = Pipeline([(\"scaler\", MinMaxScaler()), (\"NN\", clf)])\n",
    "pipe.fit(X_train, y_train)\n",
    "\n",
    "predicted = pipe.predict(X_test)\n",
    "\n",
    "print(metrics.classification_report(y_test, predicted, digits=4))"
   ]
  },
  {
   "cell_type": "code",
   "execution_count": 3,
   "id": "1c0c3356",
   "metadata": {},
   "outputs": [
    {
     "name": "stdout",
     "output_type": "stream",
     "text": [
      "              precision    recall  f1-score   support\n",
      "\n",
      "           0     1.0000    1.0000    1.0000        44\n",
      "           1     0.9773    0.9773    0.9773        44\n",
      "           2     1.0000    0.9767    0.9882        43\n",
      "           3     1.0000    0.9800    0.9899        50\n",
      "           4     1.0000    1.0000    1.0000        50\n",
      "           5     0.9792    0.9592    0.9691        49\n",
      "           6     0.9778    1.0000    0.9888        44\n",
      "           7     1.0000    1.0000    1.0000        46\n",
      "           8     0.9750    1.0000    0.9873        39\n",
      "           9     0.9762    1.0000    0.9880        41\n",
      "\n",
      "    accuracy                         0.9889       450\n",
      "   macro avg     0.9885    0.9893    0.9889       450\n",
      "weighted avg     0.9890    0.9889    0.9889       450\n",
      "\n"
     ]
    }
   ],
   "source": [
    "clf_deep = MLPClassifier(\n",
    "    random_state=0, max_iter=500, hidden_layer_sizes=(100, 100, 100)\n",
    ")\n",
    "\n",
    "pipe_deep = Pipeline([(\"scaler\", MinMaxScaler()), (\"NN\", clf_deep)])\n",
    "pipe_deep.fit(X_train, y_train)\n",
    "\n",
    "predicted_deep = pipe_deep.predict(X_test)\n",
    "\n",
    "print(metrics.classification_report(y_test, predicted_deep, digits=4))"
   ]
  },
  {
   "cell_type": "code",
   "execution_count": 6,
   "id": "370e1120",
   "metadata": {},
   "outputs": [
    {
     "name": "stdout",
     "output_type": "stream",
     "text": [
      "Fitting 3 folds for each of 16 candidates, totalling 48 fits\n"
     ]
    },
    {
     "data": {
      "text/plain": [
       "{'MLPClassifier__activation': 'relu',\n",
       " 'MLPClassifier__alpha': 0.0001,\n",
       " 'MLPClassifier__hidden_layer_sizes': (100, 100, 100)}"
      ]
     },
     "execution_count": 6,
     "metadata": {},
     "output_type": "execute_result"
    }
   ],
   "source": [
    "from sklearn.model_selection import GridSearchCV\n",
    "\n",
    "pipe = Pipeline(\n",
    "    [\n",
    "        (\"scaler\", MinMaxScaler()),\n",
    "        (\"MLPClassifier\", MLPClassifier(random_state=0, max_iter=300)),\n",
    "    ]\n",
    ")\n",
    "grid = {\n",
    "    \"MLPClassifier__hidden_layer_sizes\": [\n",
    "        (50, 50, 50),\n",
    "        (50, 100, 50),\n",
    "        (100,),\n",
    "        (100, 100, 100),\n",
    "    ],\n",
    "    \"MLPClassifier__activation\": [\"tanh\", \"relu\"],\n",
    "    \"MLPClassifier__alpha\": [0.0001, 0.05],\n",
    "}\n",
    "\n",
    "grid_search = GridSearchCV(estimator=pipe, param_grid=grid, n_jobs=-1, verbose=1, cv=3)\n",
    "\n",
    "grid_search.fit(X_train, y_train)\n",
    "grid_search.best_params_"
   ]
  },
  {
   "cell_type": "code",
   "execution_count": 7,
   "id": "5aa95e4d",
   "metadata": {},
   "outputs": [
    {
     "name": "stdout",
     "output_type": "stream",
     "text": [
      "              precision    recall  f1-score   support\n",
      "\n",
      "           0     1.0000    1.0000    1.0000        44\n",
      "           1     0.9778    1.0000    0.9888        44\n",
      "           2     1.0000    0.9767    0.9882        43\n",
      "           3     1.0000    1.0000    1.0000        50\n",
      "           4     1.0000    1.0000    1.0000        50\n",
      "           5     1.0000    0.9592    0.9792        49\n",
      "           6     0.9778    1.0000    0.9888        44\n",
      "           7     1.0000    1.0000    1.0000        46\n",
      "           8     1.0000    1.0000    1.0000        39\n",
      "           9     0.9762    1.0000    0.9880        41\n",
      "\n",
      "    accuracy                         0.9933       450\n",
      "   macro avg     0.9932    0.9936    0.9933       450\n",
      "weighted avg     0.9935    0.9933    0.9933       450\n",
      "\n"
     ]
    }
   ],
   "source": [
    "pipe_best = Pipeline(\n",
    "    [(\"scaler\", MinMaxScaler()), (\"MLPClassifier\", MLPClassifier(max_iter=500))]\n",
    ")\n",
    "pipe_best.set_params(**grid_search.best_params_)\n",
    "pipe_best.fit(X_train, y_train)\n",
    "\n",
    "predicted_best = pipe_best.predict(X_test)\n",
    "print(metrics.classification_report(y_test, predicted_best, digits=4))"
   ]
  },
  {
   "cell_type": "code",
   "execution_count": null,
   "id": "5eda9fa1",
   "metadata": {},
   "outputs": [],
   "source": []
  }
 ],
 "metadata": {
  "kernelspec": {
   "display_name": "Python 3.8 (ipykernel)",
   "language": "python",
   "name": "python3.8"
  },
  "language_info": {
   "codemirror_mode": {
    "name": "ipython",
    "version": 3
   },
   "file_extension": ".py",
   "mimetype": "text/x-python",
   "name": "python",
   "nbconvert_exporter": "python",
   "pygments_lexer": "ipython3",
   "version": "3.8.13"
  }
 },
 "nbformat": 4,
 "nbformat_minor": 5
}
