{
 "cells": [
  {
   "cell_type": "markdown",
   "id": "e695d780",
   "metadata": {},
   "source": [
    "# Data Pipeline und Klassifikation"
   ]
  },
  {
   "cell_type": "markdown",
   "id": "3dfc8a82",
   "metadata": {},
   "source": [
    "## Aufgabe 1: Data Pipeline und Klassifikation bei Herzkrankheiten\n",
    "\n",
    "1. Laden Sie den bekannten Datensatz zu den Herzkrankheiten aus `data/heart_unclean.csv`\n",
    "2. Teilen Sie die Features in die Kategorien: Numerisch, Ordinal und Nominal auf\n",
    "3. Bauen Sie jeweils eine Data Pipeline zur Verarbeitung der jeweiligen Features.\n",
    "4. Benutzen Sie die scitkit-learn Klasse `ColumnTransformer` um die Pipelines zu einer Gesamtpipeline wieder zusammen zu führen.\n",
    "5. Teilen Sie die Daten in Trainings- und Testdaten auf \n",
    "6. Wenden Sie die Gesamtpipeline auf die Trainingsdaten an \n",
    "7. Trainieren Sie mit den Trainingsdaten einen Klassifizierer (z.B. `SGDClassifier`)\n",
    "8. Sagen Sie mithilfe des Klassifizierers vorher ob die Personen im Testdatensatz eine Herzkrankheit haben\n",
    "9. Berechnen Sie Precision und Recall ihres Klassifizierers. \n",
    "10. Visualisieren Sie die Konfusionsmatrix ihrers Klassizieres anhand des Testdatensates\n",
    "\n",
    "Herzlichen Glückwunsch! Sie haben Ihr erstes Machine Learning Projekt durchgeführt!"
   ]
  },
  {
   "cell_type": "code",
   "execution_count": 1,
   "id": "73ebabb6",
   "metadata": {},
   "outputs": [],
   "source": [
    "import matplotlib.pyplot as plt\n",
    "import pandas as pd\n",
    "import seaborn as sns\n",
    "from sklearn import set_config\n",
    "from sklearn.compose import ColumnTransformer\n",
    "from sklearn.impute import SimpleImputer\n",
    "from sklearn.linear_model import SGDClassifier\n",
    "from sklearn.metrics import confusion_matrix, precision_score, recall_score\n",
    "from sklearn.model_selection import train_test_split\n",
    "from sklearn.pipeline import Pipeline\n",
    "from sklearn.preprocessing import OneHotEncoder, OrdinalEncoder, StandardScaler"
   ]
  },
  {
   "cell_type": "code",
   "execution_count": 2,
   "id": "ed0aa6d8",
   "metadata": {},
   "outputs": [
    {
     "data": {
      "text/html": [
       "<div>\n",
       "<style scoped>\n",
       "    .dataframe tbody tr th:only-of-type {\n",
       "        vertical-align: middle;\n",
       "    }\n",
       "\n",
       "    .dataframe tbody tr th {\n",
       "        vertical-align: top;\n",
       "    }\n",
       "\n",
       "    .dataframe thead th {\n",
       "        text-align: right;\n",
       "    }\n",
       "</style>\n",
       "<table border=\"1\" class=\"dataframe\">\n",
       "  <thead>\n",
       "    <tr style=\"text-align: right;\">\n",
       "      <th></th>\n",
       "      <th>Age</th>\n",
       "      <th>Sex</th>\n",
       "      <th>ChestPainType</th>\n",
       "      <th>RestingBP</th>\n",
       "      <th>Cholesterol</th>\n",
       "      <th>FastingBS</th>\n",
       "      <th>RestingECG</th>\n",
       "      <th>MaxHR</th>\n",
       "      <th>ExerciseAngina</th>\n",
       "      <th>Oldpeak</th>\n",
       "      <th>ST_Slope</th>\n",
       "      <th>HeartDisease</th>\n",
       "    </tr>\n",
       "  </thead>\n",
       "  <tbody>\n",
       "    <tr>\n",
       "      <th>0</th>\n",
       "      <td>40.0</td>\n",
       "      <td>M</td>\n",
       "      <td>ATA</td>\n",
       "      <td>140.0</td>\n",
       "      <td>289.0</td>\n",
       "      <td>0.0</td>\n",
       "      <td>Normal</td>\n",
       "      <td>172.0</td>\n",
       "      <td>N</td>\n",
       "      <td>0.0</td>\n",
       "      <td>Up</td>\n",
       "      <td>0</td>\n",
       "    </tr>\n",
       "    <tr>\n",
       "      <th>1</th>\n",
       "      <td>49.0</td>\n",
       "      <td>F</td>\n",
       "      <td>NAP</td>\n",
       "      <td>160.0</td>\n",
       "      <td>180.0</td>\n",
       "      <td>0.0</td>\n",
       "      <td>Normal</td>\n",
       "      <td>156.0</td>\n",
       "      <td>N</td>\n",
       "      <td>1.0</td>\n",
       "      <td>Flat</td>\n",
       "      <td>1</td>\n",
       "    </tr>\n",
       "    <tr>\n",
       "      <th>2</th>\n",
       "      <td>37.0</td>\n",
       "      <td>M</td>\n",
       "      <td>ATA</td>\n",
       "      <td>130.0</td>\n",
       "      <td>283.0</td>\n",
       "      <td>0.0</td>\n",
       "      <td>ST</td>\n",
       "      <td>98.0</td>\n",
       "      <td>N</td>\n",
       "      <td>0.0</td>\n",
       "      <td>Up</td>\n",
       "      <td>0</td>\n",
       "    </tr>\n",
       "    <tr>\n",
       "      <th>3</th>\n",
       "      <td>48.0</td>\n",
       "      <td>F</td>\n",
       "      <td>ASY</td>\n",
       "      <td>138.0</td>\n",
       "      <td>214.0</td>\n",
       "      <td>0.0</td>\n",
       "      <td>Normal</td>\n",
       "      <td>108.0</td>\n",
       "      <td>Y</td>\n",
       "      <td>1.5</td>\n",
       "      <td>NaN</td>\n",
       "      <td>1</td>\n",
       "    </tr>\n",
       "    <tr>\n",
       "      <th>4</th>\n",
       "      <td>54.0</td>\n",
       "      <td>M</td>\n",
       "      <td>NAP</td>\n",
       "      <td>150.0</td>\n",
       "      <td>NaN</td>\n",
       "      <td>0.0</td>\n",
       "      <td>Normal</td>\n",
       "      <td>122.0</td>\n",
       "      <td>N</td>\n",
       "      <td>0.0</td>\n",
       "      <td>Up</td>\n",
       "      <td>0</td>\n",
       "    </tr>\n",
       "  </tbody>\n",
       "</table>\n",
       "</div>"
      ],
      "text/plain": [
       "    Age Sex ChestPainType  RestingBP  Cholesterol  FastingBS RestingECG  \\\n",
       "0  40.0   M           ATA      140.0        289.0        0.0     Normal   \n",
       "1  49.0   F           NAP      160.0        180.0        0.0     Normal   \n",
       "2  37.0   M           ATA      130.0        283.0        0.0         ST   \n",
       "3  48.0   F           ASY      138.0        214.0        0.0     Normal   \n",
       "4  54.0   M           NAP      150.0          NaN        0.0     Normal   \n",
       "\n",
       "   MaxHR ExerciseAngina  Oldpeak ST_Slope  HeartDisease  \n",
       "0  172.0              N      0.0       Up             0  \n",
       "1  156.0              N      1.0     Flat             1  \n",
       "2   98.0              N      0.0       Up             0  \n",
       "3  108.0              Y      1.5      NaN             1  \n",
       "4  122.0              N      0.0       Up             0  "
      ]
     },
     "execution_count": 2,
     "metadata": {},
     "output_type": "execute_result"
    }
   ],
   "source": [
    "heart_data = pd.read_csv(\"data/heart_unclean.csv\")\n",
    "heart_data.head()"
   ]
  },
  {
   "cell_type": "code",
   "execution_count": 3,
   "id": "5b4b454f",
   "metadata": {},
   "outputs": [
    {
     "name": "stdout",
     "output_type": "stream",
     "text": [
      "<class 'pandas.core.frame.DataFrame'>\n",
      "RangeIndex: 918 entries, 0 to 917\n",
      "Data columns (total 12 columns):\n",
      " #   Column          Non-Null Count  Dtype  \n",
      "---  ------          --------------  -----  \n",
      " 0   Age             901 non-null    float64\n",
      " 1   Sex             906 non-null    object \n",
      " 2   ChestPainType   900 non-null    object \n",
      " 3   RestingBP       899 non-null    float64\n",
      " 4   Cholesterol     900 non-null    float64\n",
      " 5   FastingBS       904 non-null    float64\n",
      " 6   RestingECG      898 non-null    object \n",
      " 7   MaxHR           892 non-null    float64\n",
      " 8   ExerciseAngina  896 non-null    object \n",
      " 9   Oldpeak         896 non-null    float64\n",
      " 10  ST_Slope        897 non-null    object \n",
      " 11  HeartDisease    918 non-null    int64  \n",
      "dtypes: float64(6), int64(1), object(5)\n",
      "memory usage: 86.2+ KB\n"
     ]
    }
   ],
   "source": [
    "heart_data.info()"
   ]
  },
  {
   "cell_type": "code",
   "execution_count": 4,
   "id": "9f6db502",
   "metadata": {},
   "outputs": [
    {
     "data": {
      "text/html": [
       "<div>\n",
       "<style scoped>\n",
       "    .dataframe tbody tr th:only-of-type {\n",
       "        vertical-align: middle;\n",
       "    }\n",
       "\n",
       "    .dataframe tbody tr th {\n",
       "        vertical-align: top;\n",
       "    }\n",
       "\n",
       "    .dataframe thead th {\n",
       "        text-align: right;\n",
       "    }\n",
       "</style>\n",
       "<table border=\"1\" class=\"dataframe\">\n",
       "  <thead>\n",
       "    <tr style=\"text-align: right;\">\n",
       "      <th></th>\n",
       "      <th>Age</th>\n",
       "      <th>RestingBP</th>\n",
       "      <th>Cholesterol</th>\n",
       "      <th>FastingBS</th>\n",
       "      <th>MaxHR</th>\n",
       "      <th>Oldpeak</th>\n",
       "      <th>HeartDisease</th>\n",
       "    </tr>\n",
       "  </thead>\n",
       "  <tbody>\n",
       "    <tr>\n",
       "      <th>count</th>\n",
       "      <td>901.000000</td>\n",
       "      <td>899.000000</td>\n",
       "      <td>900.000000</td>\n",
       "      <td>904.000000</td>\n",
       "      <td>892.000000</td>\n",
       "      <td>896.000000</td>\n",
       "      <td>918.000000</td>\n",
       "    </tr>\n",
       "    <tr>\n",
       "      <th>mean</th>\n",
       "      <td>53.489456</td>\n",
       "      <td>132.395996</td>\n",
       "      <td>198.657778</td>\n",
       "      <td>0.231195</td>\n",
       "      <td>136.706278</td>\n",
       "      <td>0.876897</td>\n",
       "      <td>0.553377</td>\n",
       "    </tr>\n",
       "    <tr>\n",
       "      <th>std</th>\n",
       "      <td>9.452639</td>\n",
       "      <td>18.482551</td>\n",
       "      <td>109.555724</td>\n",
       "      <td>0.421830</td>\n",
       "      <td>25.481514</td>\n",
       "      <td>1.060458</td>\n",
       "      <td>0.497414</td>\n",
       "    </tr>\n",
       "    <tr>\n",
       "      <th>min</th>\n",
       "      <td>28.000000</td>\n",
       "      <td>0.000000</td>\n",
       "      <td>0.000000</td>\n",
       "      <td>0.000000</td>\n",
       "      <td>60.000000</td>\n",
       "      <td>-2.600000</td>\n",
       "      <td>0.000000</td>\n",
       "    </tr>\n",
       "    <tr>\n",
       "      <th>25%</th>\n",
       "      <td>47.000000</td>\n",
       "      <td>120.000000</td>\n",
       "      <td>172.750000</td>\n",
       "      <td>0.000000</td>\n",
       "      <td>120.000000</td>\n",
       "      <td>0.000000</td>\n",
       "      <td>0.000000</td>\n",
       "    </tr>\n",
       "    <tr>\n",
       "      <th>50%</th>\n",
       "      <td>54.000000</td>\n",
       "      <td>130.000000</td>\n",
       "      <td>223.000000</td>\n",
       "      <td>0.000000</td>\n",
       "      <td>138.000000</td>\n",
       "      <td>0.500000</td>\n",
       "      <td>1.000000</td>\n",
       "    </tr>\n",
       "    <tr>\n",
       "      <th>75%</th>\n",
       "      <td>60.000000</td>\n",
       "      <td>140.000000</td>\n",
       "      <td>267.000000</td>\n",
       "      <td>0.000000</td>\n",
       "      <td>155.000000</td>\n",
       "      <td>1.500000</td>\n",
       "      <td>1.000000</td>\n",
       "    </tr>\n",
       "    <tr>\n",
       "      <th>max</th>\n",
       "      <td>77.000000</td>\n",
       "      <td>200.000000</td>\n",
       "      <td>603.000000</td>\n",
       "      <td>1.000000</td>\n",
       "      <td>202.000000</td>\n",
       "      <td>6.200000</td>\n",
       "      <td>1.000000</td>\n",
       "    </tr>\n",
       "  </tbody>\n",
       "</table>\n",
       "</div>"
      ],
      "text/plain": [
       "              Age   RestingBP  Cholesterol   FastingBS       MaxHR  \\\n",
       "count  901.000000  899.000000   900.000000  904.000000  892.000000   \n",
       "mean    53.489456  132.395996   198.657778    0.231195  136.706278   \n",
       "std      9.452639   18.482551   109.555724    0.421830   25.481514   \n",
       "min     28.000000    0.000000     0.000000    0.000000   60.000000   \n",
       "25%     47.000000  120.000000   172.750000    0.000000  120.000000   \n",
       "50%     54.000000  130.000000   223.000000    0.000000  138.000000   \n",
       "75%     60.000000  140.000000   267.000000    0.000000  155.000000   \n",
       "max     77.000000  200.000000   603.000000    1.000000  202.000000   \n",
       "\n",
       "          Oldpeak  HeartDisease  \n",
       "count  896.000000    918.000000  \n",
       "mean     0.876897      0.553377  \n",
       "std      1.060458      0.497414  \n",
       "min     -2.600000      0.000000  \n",
       "25%      0.000000      0.000000  \n",
       "50%      0.500000      1.000000  \n",
       "75%      1.500000      1.000000  \n",
       "max      6.200000      1.000000  "
      ]
     },
     "execution_count": 4,
     "metadata": {},
     "output_type": "execute_result"
    }
   ],
   "source": [
    "heart_data.describe()"
   ]
  },
  {
   "cell_type": "markdown",
   "id": "0a1d5343",
   "metadata": {},
   "source": [
    "## Feature Aufteilung"
   ]
  },
  {
   "cell_type": "code",
   "execution_count": 5,
   "id": "29fdabe4",
   "metadata": {},
   "outputs": [],
   "source": [
    "ordinal_features = [\"Sex\", \"ExerciseAngina\", \"ST_Slope\"]\n",
    "nominal_features = [\"RestingECG\", \"ChestPainType\"]\n",
    "numeric_features = [\"Age\", \"RestingBP\", \"Cholesterol\", \"MaxHR\", \"Oldpeak\", \"FastingBS\"]\n",
    "\n",
    "assert set(heart_data.columns) == set(\n",
    "    numeric_features + ordinal_features + nominal_features\n",
    ") | {\"HeartDisease\"}\n",
    "\n",
    "heart_num = heart_data[numeric_features]\n",
    "heart_cat_nominal = heart_data[nominal_features]\n",
    "heart_cat_ordinal = heart_data[ordinal_features]"
   ]
  },
  {
   "cell_type": "markdown",
   "id": "f7aad19d",
   "metadata": {},
   "source": [
    "## Generate Data Pipeline"
   ]
  },
  {
   "cell_type": "code",
   "execution_count": 6,
   "id": "55a8745e",
   "metadata": {},
   "outputs": [
    {
     "data": {
      "text/html": [
       "<style>#sk-4f52b87c-d680-47aa-9661-8c7d7c9403c2 {color: black;background-color: white;}#sk-4f52b87c-d680-47aa-9661-8c7d7c9403c2 pre{padding: 0;}#sk-4f52b87c-d680-47aa-9661-8c7d7c9403c2 div.sk-toggleable {background-color: white;}#sk-4f52b87c-d680-47aa-9661-8c7d7c9403c2 label.sk-toggleable__label {cursor: pointer;display: block;width: 100%;margin-bottom: 0;padding: 0.3em;box-sizing: border-box;text-align: center;}#sk-4f52b87c-d680-47aa-9661-8c7d7c9403c2 label.sk-toggleable__label-arrow:before {content: \"▸\";float: left;margin-right: 0.25em;color: #696969;}#sk-4f52b87c-d680-47aa-9661-8c7d7c9403c2 label.sk-toggleable__label-arrow:hover:before {color: black;}#sk-4f52b87c-d680-47aa-9661-8c7d7c9403c2 div.sk-estimator:hover label.sk-toggleable__label-arrow:before {color: black;}#sk-4f52b87c-d680-47aa-9661-8c7d7c9403c2 div.sk-toggleable__content {max-height: 0;max-width: 0;overflow: hidden;text-align: left;background-color: #f0f8ff;}#sk-4f52b87c-d680-47aa-9661-8c7d7c9403c2 div.sk-toggleable__content pre {margin: 0.2em;color: black;border-radius: 0.25em;background-color: #f0f8ff;}#sk-4f52b87c-d680-47aa-9661-8c7d7c9403c2 input.sk-toggleable__control:checked~div.sk-toggleable__content {max-height: 200px;max-width: 100%;overflow: auto;}#sk-4f52b87c-d680-47aa-9661-8c7d7c9403c2 input.sk-toggleable__control:checked~label.sk-toggleable__label-arrow:before {content: \"▾\";}#sk-4f52b87c-d680-47aa-9661-8c7d7c9403c2 div.sk-estimator input.sk-toggleable__control:checked~label.sk-toggleable__label {background-color: #d4ebff;}#sk-4f52b87c-d680-47aa-9661-8c7d7c9403c2 div.sk-label input.sk-toggleable__control:checked~label.sk-toggleable__label {background-color: #d4ebff;}#sk-4f52b87c-d680-47aa-9661-8c7d7c9403c2 input.sk-hidden--visually {border: 0;clip: rect(1px 1px 1px 1px);clip: rect(1px, 1px, 1px, 1px);height: 1px;margin: -1px;overflow: hidden;padding: 0;position: absolute;width: 1px;}#sk-4f52b87c-d680-47aa-9661-8c7d7c9403c2 div.sk-estimator {font-family: monospace;background-color: #f0f8ff;border: 1px dotted black;border-radius: 0.25em;box-sizing: border-box;margin-bottom: 0.5em;}#sk-4f52b87c-d680-47aa-9661-8c7d7c9403c2 div.sk-estimator:hover {background-color: #d4ebff;}#sk-4f52b87c-d680-47aa-9661-8c7d7c9403c2 div.sk-parallel-item::after {content: \"\";width: 100%;border-bottom: 1px solid gray;flex-grow: 1;}#sk-4f52b87c-d680-47aa-9661-8c7d7c9403c2 div.sk-label:hover label.sk-toggleable__label {background-color: #d4ebff;}#sk-4f52b87c-d680-47aa-9661-8c7d7c9403c2 div.sk-serial::before {content: \"\";position: absolute;border-left: 1px solid gray;box-sizing: border-box;top: 2em;bottom: 0;left: 50%;}#sk-4f52b87c-d680-47aa-9661-8c7d7c9403c2 div.sk-serial {display: flex;flex-direction: column;align-items: center;background-color: white;padding-right: 0.2em;padding-left: 0.2em;}#sk-4f52b87c-d680-47aa-9661-8c7d7c9403c2 div.sk-item {z-index: 1;}#sk-4f52b87c-d680-47aa-9661-8c7d7c9403c2 div.sk-parallel {display: flex;align-items: stretch;justify-content: center;background-color: white;}#sk-4f52b87c-d680-47aa-9661-8c7d7c9403c2 div.sk-parallel::before {content: \"\";position: absolute;border-left: 1px solid gray;box-sizing: border-box;top: 2em;bottom: 0;left: 50%;}#sk-4f52b87c-d680-47aa-9661-8c7d7c9403c2 div.sk-parallel-item {display: flex;flex-direction: column;position: relative;background-color: white;}#sk-4f52b87c-d680-47aa-9661-8c7d7c9403c2 div.sk-parallel-item:first-child::after {align-self: flex-end;width: 50%;}#sk-4f52b87c-d680-47aa-9661-8c7d7c9403c2 div.sk-parallel-item:last-child::after {align-self: flex-start;width: 50%;}#sk-4f52b87c-d680-47aa-9661-8c7d7c9403c2 div.sk-parallel-item:only-child::after {width: 0;}#sk-4f52b87c-d680-47aa-9661-8c7d7c9403c2 div.sk-dashed-wrapped {border: 1px dashed gray;margin: 0 0.4em 0.5em 0.4em;box-sizing: border-box;padding-bottom: 0.4em;background-color: white;position: relative;}#sk-4f52b87c-d680-47aa-9661-8c7d7c9403c2 div.sk-label label {font-family: monospace;font-weight: bold;background-color: white;display: inline-block;line-height: 1.2em;}#sk-4f52b87c-d680-47aa-9661-8c7d7c9403c2 div.sk-label-container {position: relative;z-index: 2;text-align: center;}#sk-4f52b87c-d680-47aa-9661-8c7d7c9403c2 div.sk-container {/* jupyter's `normalize.less` sets `[hidden] { display: none; }` but bootstrap.min.css set `[hidden] { display: none !important; }` so we also need the `!important` here to be able to override the default hidden behavior on the sphinx rendered scikit-learn.org. See: https://github.com/scikit-learn/scikit-learn/issues/21755 */display: inline-block !important;position: relative;}#sk-4f52b87c-d680-47aa-9661-8c7d7c9403c2 div.sk-text-repr-fallback {display: none;}</style><div id=\"sk-4f52b87c-d680-47aa-9661-8c7d7c9403c2\" class=\"sk-top-container\"><div class=\"sk-text-repr-fallback\"><pre>ColumnTransformer(transformers=[(&#x27;num&#x27;,\n",
       "                                 Pipeline(steps=[(&#x27;imputer&#x27;, SimpleImputer()),\n",
       "                                                 (&#x27;scaler&#x27;, StandardScaler())]),\n",
       "                                 [&#x27;Age&#x27;, &#x27;RestingBP&#x27;, &#x27;Cholesterol&#x27;, &#x27;MaxHR&#x27;,\n",
       "                                  &#x27;Oldpeak&#x27;, &#x27;FastingBS&#x27;]),\n",
       "                                (&#x27;cat_nominal&#x27;,\n",
       "                                 Pipeline(steps=[(&#x27;imputer&#x27;,\n",
       "                                                  SimpleImputer(strategy=&#x27;most_frequent&#x27;)),\n",
       "                                                 (&#x27;one_hot_encoding&#x27;,\n",
       "                                                  OneHotEncoder())]),\n",
       "                                 [&#x27;RestingECG&#x27;, &#x27;ChestPainType&#x27;]),\n",
       "                                (&#x27;cat_ordinal&#x27;,\n",
       "                                 Pipeline(steps=[(&#x27;imputer&#x27;,\n",
       "                                                  SimpleImputer(strategy=&#x27;most_frequent&#x27;)),\n",
       "                                                 (&#x27;ordinal_encoding&#x27;,\n",
       "                                                  OrdinalEncoder())]),\n",
       "                                 [&#x27;Sex&#x27;, &#x27;ExerciseAngina&#x27;, &#x27;ST_Slope&#x27;])])</pre><b>Please rerun this cell to show the HTML repr or trust the notebook.</b></div><div class=\"sk-container\" hidden><div class=\"sk-item sk-dashed-wrapped\"><div class=\"sk-label-container\"><div class=\"sk-label sk-toggleable\"><input class=\"sk-toggleable__control sk-hidden--visually\" id=\"fb251a01-50cc-49dc-b829-c6719d78f9ff\" type=\"checkbox\" ><label for=\"fb251a01-50cc-49dc-b829-c6719d78f9ff\" class=\"sk-toggleable__label sk-toggleable__label-arrow\">ColumnTransformer</label><div class=\"sk-toggleable__content\"><pre>ColumnTransformer(transformers=[(&#x27;num&#x27;,\n",
       "                                 Pipeline(steps=[(&#x27;imputer&#x27;, SimpleImputer()),\n",
       "                                                 (&#x27;scaler&#x27;, StandardScaler())]),\n",
       "                                 [&#x27;Age&#x27;, &#x27;RestingBP&#x27;, &#x27;Cholesterol&#x27;, &#x27;MaxHR&#x27;,\n",
       "                                  &#x27;Oldpeak&#x27;, &#x27;FastingBS&#x27;]),\n",
       "                                (&#x27;cat_nominal&#x27;,\n",
       "                                 Pipeline(steps=[(&#x27;imputer&#x27;,\n",
       "                                                  SimpleImputer(strategy=&#x27;most_frequent&#x27;)),\n",
       "                                                 (&#x27;one_hot_encoding&#x27;,\n",
       "                                                  OneHotEncoder())]),\n",
       "                                 [&#x27;RestingECG&#x27;, &#x27;ChestPainType&#x27;]),\n",
       "                                (&#x27;cat_ordinal&#x27;,\n",
       "                                 Pipeline(steps=[(&#x27;imputer&#x27;,\n",
       "                                                  SimpleImputer(strategy=&#x27;most_frequent&#x27;)),\n",
       "                                                 (&#x27;ordinal_encoding&#x27;,\n",
       "                                                  OrdinalEncoder())]),\n",
       "                                 [&#x27;Sex&#x27;, &#x27;ExerciseAngina&#x27;, &#x27;ST_Slope&#x27;])])</pre></div></div></div><div class=\"sk-parallel\"><div class=\"sk-parallel-item\"><div class=\"sk-item\"><div class=\"sk-label-container\"><div class=\"sk-label sk-toggleable\"><input class=\"sk-toggleable__control sk-hidden--visually\" id=\"831c908c-81a7-43b1-9ec7-5e5fb5aafe75\" type=\"checkbox\" ><label for=\"831c908c-81a7-43b1-9ec7-5e5fb5aafe75\" class=\"sk-toggleable__label sk-toggleable__label-arrow\">num</label><div class=\"sk-toggleable__content\"><pre>[&#x27;Age&#x27;, &#x27;RestingBP&#x27;, &#x27;Cholesterol&#x27;, &#x27;MaxHR&#x27;, &#x27;Oldpeak&#x27;, &#x27;FastingBS&#x27;]</pre></div></div></div><div class=\"sk-serial\"><div class=\"sk-item\"><div class=\"sk-serial\"><div class=\"sk-item\"><div class=\"sk-estimator sk-toggleable\"><input class=\"sk-toggleable__control sk-hidden--visually\" id=\"7e166351-7cee-472c-a6c3-4f52059d54a7\" type=\"checkbox\" ><label for=\"7e166351-7cee-472c-a6c3-4f52059d54a7\" class=\"sk-toggleable__label sk-toggleable__label-arrow\">SimpleImputer</label><div class=\"sk-toggleable__content\"><pre>SimpleImputer()</pre></div></div></div><div class=\"sk-item\"><div class=\"sk-estimator sk-toggleable\"><input class=\"sk-toggleable__control sk-hidden--visually\" id=\"49ef9ef6-f68b-4f87-9e31-49a4333a802b\" type=\"checkbox\" ><label for=\"49ef9ef6-f68b-4f87-9e31-49a4333a802b\" class=\"sk-toggleable__label sk-toggleable__label-arrow\">StandardScaler</label><div class=\"sk-toggleable__content\"><pre>StandardScaler()</pre></div></div></div></div></div></div></div></div><div class=\"sk-parallel-item\"><div class=\"sk-item\"><div class=\"sk-label-container\"><div class=\"sk-label sk-toggleable\"><input class=\"sk-toggleable__control sk-hidden--visually\" id=\"8889d11c-8f31-4956-8697-6f414c3e5281\" type=\"checkbox\" ><label for=\"8889d11c-8f31-4956-8697-6f414c3e5281\" class=\"sk-toggleable__label sk-toggleable__label-arrow\">cat_nominal</label><div class=\"sk-toggleable__content\"><pre>[&#x27;RestingECG&#x27;, &#x27;ChestPainType&#x27;]</pre></div></div></div><div class=\"sk-serial\"><div class=\"sk-item\"><div class=\"sk-serial\"><div class=\"sk-item\"><div class=\"sk-estimator sk-toggleable\"><input class=\"sk-toggleable__control sk-hidden--visually\" id=\"1887e2d6-3c00-4cc6-a9e4-70ec9a97c69d\" type=\"checkbox\" ><label for=\"1887e2d6-3c00-4cc6-a9e4-70ec9a97c69d\" class=\"sk-toggleable__label sk-toggleable__label-arrow\">SimpleImputer</label><div class=\"sk-toggleable__content\"><pre>SimpleImputer(strategy=&#x27;most_frequent&#x27;)</pre></div></div></div><div class=\"sk-item\"><div class=\"sk-estimator sk-toggleable\"><input class=\"sk-toggleable__control sk-hidden--visually\" id=\"827d01e7-35b4-4856-aa71-c6a885981686\" type=\"checkbox\" ><label for=\"827d01e7-35b4-4856-aa71-c6a885981686\" class=\"sk-toggleable__label sk-toggleable__label-arrow\">OneHotEncoder</label><div class=\"sk-toggleable__content\"><pre>OneHotEncoder()</pre></div></div></div></div></div></div></div></div><div class=\"sk-parallel-item\"><div class=\"sk-item\"><div class=\"sk-label-container\"><div class=\"sk-label sk-toggleable\"><input class=\"sk-toggleable__control sk-hidden--visually\" id=\"398e5c64-32fb-41b9-b849-c898f916e587\" type=\"checkbox\" ><label for=\"398e5c64-32fb-41b9-b849-c898f916e587\" class=\"sk-toggleable__label sk-toggleable__label-arrow\">cat_ordinal</label><div class=\"sk-toggleable__content\"><pre>[&#x27;Sex&#x27;, &#x27;ExerciseAngina&#x27;, &#x27;ST_Slope&#x27;]</pre></div></div></div><div class=\"sk-serial\"><div class=\"sk-item\"><div class=\"sk-serial\"><div class=\"sk-item\"><div class=\"sk-estimator sk-toggleable\"><input class=\"sk-toggleable__control sk-hidden--visually\" id=\"8107efbf-6801-4e6e-afb9-9c623a8b32b0\" type=\"checkbox\" ><label for=\"8107efbf-6801-4e6e-afb9-9c623a8b32b0\" class=\"sk-toggleable__label sk-toggleable__label-arrow\">SimpleImputer</label><div class=\"sk-toggleable__content\"><pre>SimpleImputer(strategy=&#x27;most_frequent&#x27;)</pre></div></div></div><div class=\"sk-item\"><div class=\"sk-estimator sk-toggleable\"><input class=\"sk-toggleable__control sk-hidden--visually\" id=\"7c264a8c-9729-4406-bfb4-c86f67def177\" type=\"checkbox\" ><label for=\"7c264a8c-9729-4406-bfb4-c86f67def177\" class=\"sk-toggleable__label sk-toggleable__label-arrow\">OrdinalEncoder</label><div class=\"sk-toggleable__content\"><pre>OrdinalEncoder()</pre></div></div></div></div></div></div></div></div></div></div></div></div>"
      ],
      "text/plain": [
       "ColumnTransformer(transformers=[('num',\n",
       "                                 Pipeline(steps=[('imputer', SimpleImputer()),\n",
       "                                                 ('scaler', StandardScaler())]),\n",
       "                                 ['Age', 'RestingBP', 'Cholesterol', 'MaxHR',\n",
       "                                  'Oldpeak', 'FastingBS']),\n",
       "                                ('cat_nominal',\n",
       "                                 Pipeline(steps=[('imputer',\n",
       "                                                  SimpleImputer(strategy='most_frequent')),\n",
       "                                                 ('one_hot_encoding',\n",
       "                                                  OneHotEncoder())]),\n",
       "                                 ['RestingECG', 'ChestPainType']),\n",
       "                                ('cat_ordinal',\n",
       "                                 Pipeline(steps=[('imputer',\n",
       "                                                  SimpleImputer(strategy='most_frequent')),\n",
       "                                                 ('ordinal_encoding',\n",
       "                                                  OrdinalEncoder())]),\n",
       "                                 ['Sex', 'ExerciseAngina', 'ST_Slope'])])"
      ]
     },
     "execution_count": 6,
     "metadata": {},
     "output_type": "execute_result"
    }
   ],
   "source": [
    "numeric_transformer = Pipeline(\n",
    "    steps=[(\"imputer\", SimpleImputer(strategy=\"mean\")), (\"scaler\", StandardScaler())]\n",
    ")\n",
    "nominal_transformer = Pipeline(\n",
    "    steps=[\n",
    "        (\"imputer\", SimpleImputer(strategy=\"most_frequent\")),\n",
    "        (\"one_hot_encoding\", OneHotEncoder()),\n",
    "    ]\n",
    ")\n",
    "ordinal_transfomer = Pipeline(\n",
    "    steps=[\n",
    "        (\"imputer\", SimpleImputer(strategy=\"most_frequent\")),\n",
    "        (\"ordinal_encoding\", OrdinalEncoder()),\n",
    "    ]\n",
    ")\n",
    "\n",
    "# Gesamtpipeline\n",
    "preprocessor = ColumnTransformer(\n",
    "    transformers=[\n",
    "        (\"num\", numeric_transformer, numeric_features),\n",
    "        (\"cat_nominal\", nominal_transformer, nominal_features),\n",
    "        (\"cat_ordinal\", ordinal_transfomer, ordinal_features),\n",
    "    ]\n",
    ")\n",
    "\n",
    "set_config(display=\"diagram\")\n",
    "preprocessor"
   ]
  },
  {
   "cell_type": "markdown",
   "id": "5af1e95a",
   "metadata": {},
   "source": [
    "## Test and Training Split"
   ]
  },
  {
   "cell_type": "code",
   "execution_count": 7,
   "id": "99732790",
   "metadata": {},
   "outputs": [],
   "source": [
    "X = heart_data.drop(\"HeartDisease\", axis=1)\n",
    "y = heart_data[[\"HeartDisease\"]]\n",
    "\n",
    "X_train, X_test, y_train, y_test = train_test_split(X, y)"
   ]
  },
  {
   "cell_type": "code",
   "execution_count": 8,
   "id": "85e07ccb",
   "metadata": {},
   "outputs": [
    {
     "data": {
      "text/plain": [
       "array([[ 0.79340725,  0.73223473,  0.3781333 , ...,  1.        ,\n",
       "         1.        ,  0.        ],\n",
       "       [-0.5823731 , -1.28465739,  0.26799897, ...,  1.        ,\n",
       "         0.        ,  0.        ],\n",
       "       [-0.89986087,  0.39608604,  0.22210966, ...,  1.        ,\n",
       "         0.        ,  2.        ],\n",
       "       ...,\n",
       "       [-1.64066567, -1.28465739,  0.81867065, ...,  1.        ,\n",
       "         1.        ,  0.        ],\n",
       "       [ 1.74587057,  0.39608604, -1.83373129, ...,  1.        ,\n",
       "         1.        ,  1.        ],\n",
       "       [ 0.58174874,  0.11596214,  0.31388827, ...,  1.        ,\n",
       "         0.        ,  1.        ]])"
      ]
     },
     "execution_count": 8,
     "metadata": {},
     "output_type": "execute_result"
    }
   ],
   "source": [
    "X_train_prepared = preprocessor.fit_transform(X_train)\n",
    "X_train_prepared"
   ]
  },
  {
   "cell_type": "code",
   "execution_count": 9,
   "id": "4be6a0c3",
   "metadata": {},
   "outputs": [],
   "source": [
    "y_train_prepared = y_train.copy()  # no pre-processing necessary"
   ]
  },
  {
   "cell_type": "markdown",
   "id": "7a0c96d1",
   "metadata": {},
   "source": [
    "### Klassifikation"
   ]
  },
  {
   "cell_type": "code",
   "execution_count": 19,
   "id": "ee716088",
   "metadata": {},
   "outputs": [
    {
     "name": "stderr",
     "output_type": "stream",
     "text": [
      "/usr/lib64/python3.8/site-packages/sklearn/utils/validation.py:993: DataConversionWarning: A column-vector y was passed when a 1d array was expected. Please change the shape of y to (n_samples, ), for example using ravel().\n",
      "  y = column_or_1d(y, warn=True)\n"
     ]
    },
    {
     "data": {
      "text/html": [
       "<style>#sk-b95f5713-bae2-4cc2-b211-472b52e6a677 {color: black;background-color: white;}#sk-b95f5713-bae2-4cc2-b211-472b52e6a677 pre{padding: 0;}#sk-b95f5713-bae2-4cc2-b211-472b52e6a677 div.sk-toggleable {background-color: white;}#sk-b95f5713-bae2-4cc2-b211-472b52e6a677 label.sk-toggleable__label {cursor: pointer;display: block;width: 100%;margin-bottom: 0;padding: 0.3em;box-sizing: border-box;text-align: center;}#sk-b95f5713-bae2-4cc2-b211-472b52e6a677 label.sk-toggleable__label-arrow:before {content: \"▸\";float: left;margin-right: 0.25em;color: #696969;}#sk-b95f5713-bae2-4cc2-b211-472b52e6a677 label.sk-toggleable__label-arrow:hover:before {color: black;}#sk-b95f5713-bae2-4cc2-b211-472b52e6a677 div.sk-estimator:hover label.sk-toggleable__label-arrow:before {color: black;}#sk-b95f5713-bae2-4cc2-b211-472b52e6a677 div.sk-toggleable__content {max-height: 0;max-width: 0;overflow: hidden;text-align: left;background-color: #f0f8ff;}#sk-b95f5713-bae2-4cc2-b211-472b52e6a677 div.sk-toggleable__content pre {margin: 0.2em;color: black;border-radius: 0.25em;background-color: #f0f8ff;}#sk-b95f5713-bae2-4cc2-b211-472b52e6a677 input.sk-toggleable__control:checked~div.sk-toggleable__content {max-height: 200px;max-width: 100%;overflow: auto;}#sk-b95f5713-bae2-4cc2-b211-472b52e6a677 input.sk-toggleable__control:checked~label.sk-toggleable__label-arrow:before {content: \"▾\";}#sk-b95f5713-bae2-4cc2-b211-472b52e6a677 div.sk-estimator input.sk-toggleable__control:checked~label.sk-toggleable__label {background-color: #d4ebff;}#sk-b95f5713-bae2-4cc2-b211-472b52e6a677 div.sk-label input.sk-toggleable__control:checked~label.sk-toggleable__label {background-color: #d4ebff;}#sk-b95f5713-bae2-4cc2-b211-472b52e6a677 input.sk-hidden--visually {border: 0;clip: rect(1px 1px 1px 1px);clip: rect(1px, 1px, 1px, 1px);height: 1px;margin: -1px;overflow: hidden;padding: 0;position: absolute;width: 1px;}#sk-b95f5713-bae2-4cc2-b211-472b52e6a677 div.sk-estimator {font-family: monospace;background-color: #f0f8ff;border: 1px dotted black;border-radius: 0.25em;box-sizing: border-box;margin-bottom: 0.5em;}#sk-b95f5713-bae2-4cc2-b211-472b52e6a677 div.sk-estimator:hover {background-color: #d4ebff;}#sk-b95f5713-bae2-4cc2-b211-472b52e6a677 div.sk-parallel-item::after {content: \"\";width: 100%;border-bottom: 1px solid gray;flex-grow: 1;}#sk-b95f5713-bae2-4cc2-b211-472b52e6a677 div.sk-label:hover label.sk-toggleable__label {background-color: #d4ebff;}#sk-b95f5713-bae2-4cc2-b211-472b52e6a677 div.sk-serial::before {content: \"\";position: absolute;border-left: 1px solid gray;box-sizing: border-box;top: 2em;bottom: 0;left: 50%;}#sk-b95f5713-bae2-4cc2-b211-472b52e6a677 div.sk-serial {display: flex;flex-direction: column;align-items: center;background-color: white;padding-right: 0.2em;padding-left: 0.2em;}#sk-b95f5713-bae2-4cc2-b211-472b52e6a677 div.sk-item {z-index: 1;}#sk-b95f5713-bae2-4cc2-b211-472b52e6a677 div.sk-parallel {display: flex;align-items: stretch;justify-content: center;background-color: white;}#sk-b95f5713-bae2-4cc2-b211-472b52e6a677 div.sk-parallel::before {content: \"\";position: absolute;border-left: 1px solid gray;box-sizing: border-box;top: 2em;bottom: 0;left: 50%;}#sk-b95f5713-bae2-4cc2-b211-472b52e6a677 div.sk-parallel-item {display: flex;flex-direction: column;position: relative;background-color: white;}#sk-b95f5713-bae2-4cc2-b211-472b52e6a677 div.sk-parallel-item:first-child::after {align-self: flex-end;width: 50%;}#sk-b95f5713-bae2-4cc2-b211-472b52e6a677 div.sk-parallel-item:last-child::after {align-self: flex-start;width: 50%;}#sk-b95f5713-bae2-4cc2-b211-472b52e6a677 div.sk-parallel-item:only-child::after {width: 0;}#sk-b95f5713-bae2-4cc2-b211-472b52e6a677 div.sk-dashed-wrapped {border: 1px dashed gray;margin: 0 0.4em 0.5em 0.4em;box-sizing: border-box;padding-bottom: 0.4em;background-color: white;position: relative;}#sk-b95f5713-bae2-4cc2-b211-472b52e6a677 div.sk-label label {font-family: monospace;font-weight: bold;background-color: white;display: inline-block;line-height: 1.2em;}#sk-b95f5713-bae2-4cc2-b211-472b52e6a677 div.sk-label-container {position: relative;z-index: 2;text-align: center;}#sk-b95f5713-bae2-4cc2-b211-472b52e6a677 div.sk-container {/* jupyter's `normalize.less` sets `[hidden] { display: none; }` but bootstrap.min.css set `[hidden] { display: none !important; }` so we also need the `!important` here to be able to override the default hidden behavior on the sphinx rendered scikit-learn.org. See: https://github.com/scikit-learn/scikit-learn/issues/21755 */display: inline-block !important;position: relative;}#sk-b95f5713-bae2-4cc2-b211-472b52e6a677 div.sk-text-repr-fallback {display: none;}</style><div id=\"sk-b95f5713-bae2-4cc2-b211-472b52e6a677\" class=\"sk-top-container\"><div class=\"sk-text-repr-fallback\"><pre>SGDClassifier()</pre><b>Please rerun this cell to show the HTML repr or trust the notebook.</b></div><div class=\"sk-container\" hidden><div class=\"sk-item\"><div class=\"sk-estimator sk-toggleable\"><input class=\"sk-toggleable__control sk-hidden--visually\" id=\"480baee2-424b-424b-98c3-b6f6acca1c24\" type=\"checkbox\" checked><label for=\"480baee2-424b-424b-98c3-b6f6acca1c24\" class=\"sk-toggleable__label sk-toggleable__label-arrow\">SGDClassifier</label><div class=\"sk-toggleable__content\"><pre>SGDClassifier()</pre></div></div></div></div></div>"
      ],
      "text/plain": [
       "SGDClassifier()"
      ]
     },
     "execution_count": 19,
     "metadata": {},
     "output_type": "execute_result"
    }
   ],
   "source": [
    "clf = SGDClassifier()\n",
    "clf.fit(X_train_prepared, y_train_prepared)"
   ]
  },
  {
   "cell_type": "markdown",
   "id": "dada7547",
   "metadata": {},
   "source": [
    "## Precision & Recall"
   ]
  },
  {
   "cell_type": "code",
   "execution_count": 20,
   "id": "af4d4453",
   "metadata": {},
   "outputs": [
    {
     "name": "stdout",
     "output_type": "stream",
     "text": [
      "precision: 0.8512396694214877\n",
      "recall: 0.8306451612903226\n"
     ]
    }
   ],
   "source": [
    "X_test_prepared = preprocessor.transform(X_test)\n",
    "predicted = clf.predict(X_test_prepared)\n",
    "\n",
    "precision = precision_score(y_pred=predicted, y_true=y_test)\n",
    "recall = recall_score(y_pred=predicted, y_true=y_test)\n",
    "\n",
    "print(f\"precision: {precision}\")\n",
    "print(f\"recall: {recall}\")"
   ]
  },
  {
   "cell_type": "markdown",
   "id": "8095df46",
   "metadata": {},
   "source": [
    "## Konfusionsmatrix"
   ]
  },
  {
   "cell_type": "code",
   "execution_count": 21,
   "id": "2ab05f65",
   "metadata": {},
   "outputs": [
    {
     "data": {
      "image/png": "[encoded data removed]",
      "text/plain": [
       "<Figure size 432x288 with 2 Axes>"
      ]
     },
     "metadata": {
      "needs_background": "light"
     },
     "output_type": "display_data"
    }
   ],
   "source": [
    "con_matrix = confusion_matrix(y_test, predicted)\n",
    "ax = sns.heatmap(con_matrix, annot=True)\n",
    "ax.set_xticklabels((\"Positiv\", \"Negativ\"))\n",
    "ax.set_yticklabels((\"Positiv\", \"Negativ\"))\n",
    "plt.xlabel(\"Wahre Klasse\")\n",
    "plt.ylabel(\"Vorgergesagte Klasse\")\n",
    "ax.texts[0].set_text(\"TP: \" + ax.texts[0].get_text())\n",
    "ax.texts[1].set_text(\"FP: \" + ax.texts[1].get_text())\n",
    "ax.texts[2].set_text(\"FN: \" + ax.texts[2].get_text())\n",
    "ax.texts[3].set_text(\"TN: \" + ax.texts[3].get_text())"
   ]
  },
  {
   "cell_type": "code",
   "execution_count": null,
   "id": "f6eb70e4",
   "metadata": {},
   "outputs": [],
   "source": []
  }
 ],
 "metadata": {
  "kernelspec": {
   "display_name": "Python 3.8 (ipykernel)",
   "language": "python",
   "name": "python3.8"
  },
  "language_info": {
   "codemirror_mode": {
    "name": "ipython",
    "version": 3
   },
   "file_extension": ".py",
   "mimetype": "text/x-python",
   "name": "python",
   "nbconvert_exporter": "python",
   "pygments_lexer": "ipython3",
   "version": "3.8.13"
  }
 },
 "nbformat": 4,
 "nbformat_minor": 5
}
